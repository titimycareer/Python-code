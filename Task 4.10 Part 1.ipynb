{
 "cells": [
  {
   "cell_type": "markdown",
   "id": "a29630e2",
   "metadata": {},
   "source": [
    "# Table of content"
   ]
  },
  {
   "cell_type": "markdown",
   "id": "e6554ef9",
   "metadata": {},
   "source": [
    "1. Importing libraries and data and Tasks from Excercise 4.10"
   ]
  },
  {
   "cell_type": "markdown",
   "id": "b9147c8a",
   "metadata": {},
   "source": [
    "2. Addressing security implications"
   ]
  },
  {
   "cell_type": "markdown",
   "id": "99b82870",
   "metadata": {},
   "source": [
    "3. Addressing security implications"
   ]
  },
  {
   "cell_type": "markdown",
   "id": "ecb76060",
   "metadata": {},
   "source": [
    "4. Creating an exclusion flag for low-activity customers"
   ]
  },
  {
   "cell_type": "markdown",
   "id": "31a89af9",
   "metadata": {},
   "source": [
    "5. Creating profile variable based on age, income, department_id column and number of dependents\n"
   ]
  },
  {
   "cell_type": "markdown",
   "id": "48144344",
   "metadata": {},
   "source": [
    "6.  visualizing to show the distribution of profile variable created from; age, income, department_id column and number of dependents"
   ]
  },
  {
   "cell_type": "markdown",
   "id": "4ecf7440",
   "metadata": {},
   "source": [
    "7.Aggregating the max, mean, and min variables on a customer-profile level for usage frequency and expenditure"
   ]
  },
  {
   "cell_type": "markdown",
   "id": "075016b9",
   "metadata": {},
   "source": [
    "8. Create data to compare customer profiles with regions and departments and identify a link between them."
   ]
  },
  {
   "cell_type": "markdown",
   "id": "2e373b95",
   "metadata": {},
   "source": [
    "9. visualizing compared customer profiles with regions and departments "
   ]
  },
  {
   "cell_type": "markdown",
   "id": "c60f7bf5",
   "metadata": {},
   "source": [
    "# Importing Libraries"
   ]
  },
  {
   "cell_type": "code",
   "execution_count": 1,
   "id": "ff04c779",
   "metadata": {},
   "outputs": [],
   "source": [
    "import pandas as pd\n",
    "import numpy as np\n",
    "import os\n",
    "import matplotlib.pyplot as plt\n",
    "import seaborn as sns\n",
    "import scipy"
   ]
  },
  {
   "cell_type": "code",
   "execution_count": 2,
   "id": "de484ea5",
   "metadata": {},
   "outputs": [],
   "source": [
    "path = r'C:\\Users\\tee3a\\3D Objects\\12-2022 Instacart Basket Analysis'"
   ]
  },
  {
   "cell_type": "code",
   "execution_count": 3,
   "id": "50341ce3",
   "metadata": {},
   "outputs": [],
   "source": [
    "ords_prods_custs_merge = pd.read_pickle(os.path.join(path, '02 Data', 'Prepared Data for storing any manipulated data sets', 'ords_prods_custs_visualizations.pkl'))"
   ]
  },
  {
   "cell_type": "code",
   "execution_count": 4,
   "id": "3af635c2",
   "metadata": {
    "scrolled": false
   },
   "outputs": [
    {
     "name": "stdout",
     "output_type": "stream",
     "text": [
      "<class 'pandas.core.frame.DataFrame'>\n",
      "Int64Index: 32404859 entries, 0 to 32404858\n",
      "Data columns (total 34 columns):\n",
      " #   Column                  Dtype   \n",
      "---  ------                  -----   \n",
      " 0   user_id                 int64   \n",
      " 1   First Name              object  \n",
      " 2   Surnam                  object  \n",
      " 3   Gender                  object  \n",
      " 4   STATE                   object  \n",
      " 5   Age                     int64   \n",
      " 6   date_joined             object  \n",
      " 7   n_dependants            int64   \n",
      " 8   fam_status              object  \n",
      " 9   income                  int64   \n",
      " 10  product_id              int64   \n",
      " 11  product_name            object  \n",
      " 12  aisle_id                int64   \n",
      " 13  department_id           int64   \n",
      " 14  prices                  float64 \n",
      " 15  order_id                int64   \n",
      " 16  eval_set                object  \n",
      " 17  order_number            int64   \n",
      " 18  orders_day_of_week      int64   \n",
      " 19  order_hour_of_day       int64   \n",
      " 20  days_since_prior_order  float64 \n",
      " 21  add_to_cart_order       int64   \n",
      " 22  reordered               int64   \n",
      " 23  _merge                  category\n",
      " 24  price_range_loc         object  \n",
      " 25  busiest_day             object  \n",
      " 26  Busiest_days            object  \n",
      " 27  busiest_period_of_day   object  \n",
      " 28  max_order               int64   \n",
      " 29  loyalty_flag            object  \n",
      " 30  Ave_price               float64 \n",
      " 31  Spender_pattern         object  \n",
      " 32  median_regularity       float64 \n",
      " 33  user_regularity         object  \n",
      "dtypes: category(1), float64(4), int64(14), object(15)\n",
      "memory usage: 8.2+ GB\n"
     ]
    }
   ],
   "source": [
    "ords_prods_custs_merge.info()"
   ]
  },
  {
   "cell_type": "code",
   "execution_count": 5,
   "id": "6624fd3a",
   "metadata": {},
   "outputs": [],
   "source": [
    "# To create a crosstab between the “days_since_prior_order” column and the “order_number” column to establish the relationship and import to EXCEL\n",
    "\n",
    "crosstab = pd.crosstab(ords_prods_custs_merge['days_since_prior_order'], ords_prods_custs_merge['order_number'], dropna = False)"
   ]
  },
  {
   "cell_type": "code",
   "execution_count": 6,
   "id": "83673f71",
   "metadata": {},
   "outputs": [],
   "source": [
    "# To copy the crosstab on clipboard for further copy on the excel\n",
    "\n",
    "crosstab.to_clipboard()"
   ]
  },
  {
   "cell_type": "code",
   "execution_count": 7,
   "id": "a40465e0",
   "metadata": {},
   "outputs": [],
   "source": [
    "crosstab_prices = pd.crosstab(ords_prods_custs_merge['prices'], ords_prods_custs_merge['loyalty_flag'], dropna = False)"
   ]
  },
  {
   "cell_type": "code",
   "execution_count": 8,
   "id": "a7cab897",
   "metadata": {},
   "outputs": [],
   "source": [
    "crosstab_prices.to_clipboard()"
   ]
  },
  {
   "cell_type": "markdown",
   "id": "93ed0648",
   "metadata": {},
   "source": [
    "# Task Part 1 #2.\n",
    "Consider any security implications that might exist for this new data. You’ll need to address any PII data in the data before continuing your analysis."
   ]
  },
  {
   "cell_type": "code",
   "execution_count": 9,
   "id": "56def7a8",
   "metadata": {
    "scrolled": true
   },
   "outputs": [],
   "source": [
    "ords_prods_custs_merge_security = ords_prods_custs_merge.drop(columns = ['First Name'] + ['Surnam'])"
   ]
  },
  {
   "cell_type": "code",
   "execution_count": 10,
   "id": "3b95841b",
   "metadata": {
    "scrolled": true
   },
   "outputs": [
    {
     "name": "stdout",
     "output_type": "stream",
     "text": [
      "<class 'pandas.core.frame.DataFrame'>\n",
      "Int64Index: 32404859 entries, 0 to 32404858\n",
      "Data columns (total 32 columns):\n",
      " #   Column                  Dtype   \n",
      "---  ------                  -----   \n",
      " 0   user_id                 int64   \n",
      " 1   Gender                  object  \n",
      " 2   STATE                   object  \n",
      " 3   Age                     int64   \n",
      " 4   date_joined             object  \n",
      " 5   n_dependants            int64   \n",
      " 6   fam_status              object  \n",
      " 7   income                  int64   \n",
      " 8   product_id              int64   \n",
      " 9   product_name            object  \n",
      " 10  aisle_id                int64   \n",
      " 11  department_id           int64   \n",
      " 12  prices                  float64 \n",
      " 13  order_id                int64   \n",
      " 14  eval_set                object  \n",
      " 15  order_number            int64   \n",
      " 16  orders_day_of_week      int64   \n",
      " 17  order_hour_of_day       int64   \n",
      " 18  days_since_prior_order  float64 \n",
      " 19  add_to_cart_order       int64   \n",
      " 20  reordered               int64   \n",
      " 21  _merge                  category\n",
      " 22  price_range_loc         object  \n",
      " 23  busiest_day             object  \n",
      " 24  Busiest_days            object  \n",
      " 25  busiest_period_of_day   object  \n",
      " 26  max_order               int64   \n",
      " 27  loyalty_flag            object  \n",
      " 28  Ave_price               float64 \n",
      " 29  Spender_pattern         object  \n",
      " 30  median_regularity       float64 \n",
      " 31  user_regularity         object  \n",
      "dtypes: category(1), float64(4), int64(14), object(13)\n",
      "memory usage: 7.8+ GB\n"
     ]
    }
   ],
   "source": [
    "ords_prods_custs_merge_security.info()"
   ]
  },
  {
   "cell_type": "markdown",
   "id": "90c6ecd1",
   "metadata": {},
   "source": [
    "# 3.\n",
    "The Instacart officers are interested in comparing customer behavior in different geographic areas. Create a regional segmentation of the data. You’ll need to create a “Region” column based on the “State” column from your customers data set."
   ]
  },
  {
   "cell_type": "code",
   "execution_count": 11,
   "id": "1d0dcaf4",
   "metadata": {},
   "outputs": [
    {
     "data": {
      "text/plain": [
       "Pennsylvania            667082\n",
       "California              659783\n",
       "Rhode Island            656913\n",
       "Georgia                 656389\n",
       "New Mexico              654494\n",
       "Arizona                 653964\n",
       "North Carolina          651900\n",
       "Oklahoma                651739\n",
       "Alaska                  648495\n",
       "Minnesota               647825\n",
       "Massachusetts           646358\n",
       "Wyoming                 644255\n",
       "Virginia                641421\n",
       "Missouri                640732\n",
       "Texas                   640394\n",
       "Colorado                639280\n",
       "Maine                   638583\n",
       "North Dakota            638491\n",
       "Alabama                 638003\n",
       "Kansas                  637538\n",
       "Louisiana               637482\n",
       "Delaware                637024\n",
       "South Carolina          636754\n",
       "Oregon                  636425\n",
       "Arkansas                636144\n",
       "Nevada                  636139\n",
       "New York                635983\n",
       "Montana                 635265\n",
       "South Dakota            633772\n",
       "Illinois                633024\n",
       "Hawaii                  632901\n",
       "Washington              632852\n",
       "Mississippi             632675\n",
       "Kentucky                632490\n",
       "Michigan                630928\n",
       "Florida                 629027\n",
       "Ohio                    628319\n",
       "Wisconsin               628108\n",
       "New Jersey              627692\n",
       "Indiana                 627282\n",
       "Maryland                626579\n",
       "Nebraska                625813\n",
       "Iowa                    625493\n",
       "Connecticut             623022\n",
       "Tennessee               617873\n",
       "New Hampshire           615378\n",
       "District of Columbia    613695\n",
       "West Virginia           612296\n",
       "Utah                    611941\n",
       "Vermont                 611725\n",
       "Idaho                   607119\n",
       "Name: STATE, dtype: int64"
      ]
     },
     "execution_count": 11,
     "metadata": {},
     "output_type": "execute_result"
    }
   ],
   "source": [
    "# STATE\n",
    "\n",
    "ords_prods_custs_merge_security['STATE'].value_counts(dropna = False)"
   ]
  },
  {
   "cell_type": "code",
   "execution_count": 12,
   "id": "1e50733b",
   "metadata": {},
   "outputs": [],
   "source": [
    "NERegion = ['Maine', 'New Hampshire', 'Vermont', 'Massachusetts', 'Rhode Island', 'Connecticut', 'New York', 'Pennsylvania', 'New Jersey']"
   ]
  },
  {
   "cell_type": "code",
   "execution_count": 13,
   "id": "2e61677a",
   "metadata": {},
   "outputs": [],
   "source": [
    "MWRegion = ['Wisconsin', 'Michigan', 'Illinois', 'Indiana', 'Ohio', 'North Dakota', 'South Dakota', 'Nebraska', 'Kansas', 'Minnesota', 'Iowa', 'Missouri']"
   ]
  },
  {
   "cell_type": "code",
   "execution_count": 14,
   "id": "356faaef",
   "metadata": {},
   "outputs": [],
   "source": [
    "SouthRegion = ['Delaware', 'Maryland', 'District of Columbia', 'Virginia', 'West Virginia', 'North Carolina', 'South Carolina', 'Georgia', 'Florida', 'Kentucky', 'Tennessee', 'Mississippi', 'Alabama', 'Oklahoma', 'Texas', 'Arkansas', 'Louisiana']"
   ]
  },
  {
   "cell_type": "code",
   "execution_count": 15,
   "id": "68f9311c",
   "metadata": {},
   "outputs": [],
   "source": [
    "WestRegion = ['Idaho', 'Montana', 'Wyoming', 'Nevada', 'Utah', 'Colorado', 'Arizona', 'New Mexico', 'Alaska', 'Washington', 'Oregon', 'California', 'Hawaii'] "
   ]
  },
  {
   "cell_type": "code",
   "execution_count": 16,
   "id": "a201d2cc",
   "metadata": {},
   "outputs": [],
   "source": [
    "ords_prods_custs_merge_security.loc[ords_prods_custs_merge_security['STATE'].isin (NERegion), 'Region'] = 'Northeast'"
   ]
  },
  {
   "cell_type": "code",
   "execution_count": 17,
   "id": "69c56a03",
   "metadata": {},
   "outputs": [],
   "source": [
    "ords_prods_custs_merge_security.loc[ords_prods_custs_merge_security['STATE'].isin (MWRegion), 'Region'] = 'Northwest'"
   ]
  },
  {
   "cell_type": "code",
   "execution_count": 18,
   "id": "ea8c6d34",
   "metadata": {},
   "outputs": [],
   "source": [
    "ords_prods_custs_merge_security.loc[ords_prods_custs_merge_security['STATE'].isin (SouthRegion), 'Region'] = 'South'"
   ]
  },
  {
   "cell_type": "code",
   "execution_count": 19,
   "id": "3ac300da",
   "metadata": {},
   "outputs": [],
   "source": [
    "ords_prods_custs_merge_security.loc[ords_prods_custs_merge_security['STATE'].isin (WestRegion), 'Region'] = 'West'"
   ]
  },
  {
   "cell_type": "code",
   "execution_count": 20,
   "id": "31746915",
   "metadata": {},
   "outputs": [
    {
     "data": {
      "text/plain": [
       "South        10791885\n",
       "West          8292913\n",
       "Northwest     7597325\n",
       "Northeast     5722736\n",
       "Name: Region, dtype: int64"
      ]
     },
     "execution_count": 20,
     "metadata": {},
     "output_type": "execute_result"
    }
   ],
   "source": [
    "ords_prods_custs_merge_security['Region'].value_counts(dropna = False)"
   ]
  },
  {
   "cell_type": "markdown",
   "id": "420193e3",
   "metadata": {},
   "source": [
    "#\n",
    "Determine whether there’s a difference in spending habits between the different U.S. regions."
   ]
  },
  {
   "cell_type": "code",
   "execution_count": 21,
   "id": "c7fdf6fd",
   "metadata": {},
   "outputs": [],
   "source": [
    "crosstab_region_spending = pd.crosstab(ords_prods_custs_merge_security['Region'], ords_prods_custs_merge_security['Spender_pattern'], dropna = False)"
   ]
  },
  {
   "cell_type": "code",
   "execution_count": 22,
   "id": "d5c1c111",
   "metadata": {},
   "outputs": [],
   "source": [
    "crosstab_region_spending.to_clipboard()"
   ]
  },
  {
   "cell_type": "markdown",
   "id": "4d987bf3",
   "metadata": {},
   "source": [
    "#\n",
    "Overall, its noted that there are more lower spenders (total of 31,770,614) than high spenders (total of  634,245). The region that spends highest is the South, followed by West, next is Northwest and lastly by Northeast."
   ]
  },
  {
   "cell_type": "markdown",
   "id": "e5dbd442",
   "metadata": {},
   "source": [
    "# 4.\n",
    "The Instacart CFO isn’t interested in customers who don’t generate much revenue for the app. Create an exclusion flag for low-activity customers (customers with less than 5 orders) and exclude them from the data. Make sure you export this sample."
   ]
  },
  {
   "cell_type": "code",
   "execution_count": 23,
   "id": "9958d84a",
   "metadata": {},
   "outputs": [],
   "source": [
    "# using the max_order column\n",
    "\n",
    "ords_prods_custs_merge_security.loc[ords_prods_custs_merge_security['max_order'] < 5, 'exclusion_flag'] = 'low_activity_customers'"
   ]
  },
  {
   "cell_type": "code",
   "execution_count": 24,
   "id": "f3007d88",
   "metadata": {},
   "outputs": [],
   "source": [
    "ords_prods_custs_merge_security.loc[ords_prods_custs_merge_security['max_order'] >= 5, 'exclusion_flag'] = 'high_activity_customers'"
   ]
  },
  {
   "cell_type": "code",
   "execution_count": 25,
   "id": "7871e509",
   "metadata": {
    "scrolled": false
   },
   "outputs": [
    {
     "data": {
      "text/plain": [
       "high_activity_customers    30964564\n",
       "low_activity_customers      1440295\n",
       "Name: exclusion_flag, dtype: int64"
      ]
     },
     "execution_count": 25,
     "metadata": {},
     "output_type": "execute_result"
    }
   ],
   "source": [
    "# Check value counts of exclusion_flag\n",
    "\n",
    "ords_prods_custs_merge_security['exclusion_flag'].value_counts(dropna = False)"
   ]
  },
  {
   "cell_type": "code",
   "execution_count": 26,
   "id": "288d9cf9",
   "metadata": {},
   "outputs": [],
   "source": [
    "# Dropping the low_activity_customers  \n",
    "\n",
    "ords_prods_custs_merge_drop = ords_prods_custs_merge_security.drop(ords_prods_custs_merge_security[ords_prods_custs_merge_security.max_order < 5].index)"
   ]
  },
  {
   "cell_type": "code",
   "execution_count": 27,
   "id": "d35bd6cf",
   "metadata": {},
   "outputs": [
    {
     "data": {
      "text/plain": [
       "high_activity_customers    30964564\n",
       "Name: exclusion_flag, dtype: int64"
      ]
     },
     "execution_count": 27,
     "metadata": {},
     "output_type": "execute_result"
    }
   ],
   "source": [
    "# Check value counts of exclusion_flag\n",
    "\n",
    "ords_prods_custs_merge_drop['exclusion_flag'].value_counts(dropna = False)"
   ]
  },
  {
   "cell_type": "code",
   "execution_count": 28,
   "id": "62d7f266",
   "metadata": {},
   "outputs": [],
   "source": [
    "# Exporting the sample\n",
    "\n",
    "ords_prods_custs_merge_drop.to_pickle(os.path.join(path, '02 Data','Prepared Data for storing any manipulated data sets', 'ords_prods_custs_merge_drop.pkl'))"
   ]
  },
  {
   "cell_type": "markdown",
   "id": "28a3f987",
   "metadata": {},
   "source": [
    "# 5.\n",
    " Create a profiling variable based on age, income, certain goods in the “department_id” column, and number of dependents. You might also use the “orders_day_of_the_week” and “order_hour_of_day” columns if you can think of a way they would impact customer profiles. (Hint: As an example, try thinking of what characteristics would lead you to the profile “Single adult” or “Young parent.”)"
   ]
  },
  {
   "cell_type": "code",
   "execution_count": 29,
   "id": "e95768c7",
   "metadata": {
    "scrolled": false
   },
   "outputs": [
    {
     "data": {
      "text/plain": [
       "count    3.096456e+07\n",
       "mean     4.946803e+01\n",
       "std      1.848528e+01\n",
       "min      1.800000e+01\n",
       "25%      3.300000e+01\n",
       "50%      4.900000e+01\n",
       "75%      6.500000e+01\n",
       "max      8.100000e+01\n",
       "Name: Age, dtype: float64"
      ]
     },
     "execution_count": 29,
     "metadata": {},
     "output_type": "execute_result"
    }
   ],
   "source": [
    "# Age\n",
    "\n",
    "ords_prods_custs_merge_drop['Age'].describe()"
   ]
  },
  {
   "cell_type": "markdown",
   "id": "0203472e",
   "metadata": {},
   "source": [
    "# \n",
    "The average age is 49, the minimum age is 18, and the maximum age is 81. The age will be grouped as young adult-18 to 45years, middle adult- 45 to 65 years and old adult- 66 to 81 years"
   ]
  },
  {
   "cell_type": "code",
   "execution_count": 30,
   "id": "ff9ee4b7",
   "metadata": {},
   "outputs": [],
   "source": [
    "# Create age_flag\n",
    "ords_prods_custs_merge_drop.loc[ords_prods_custs_merge_drop['Age'] <= 45, 'Age_flag'] = 'Young_adult'"
   ]
  },
  {
   "cell_type": "code",
   "execution_count": 31,
   "id": "604baad3",
   "metadata": {},
   "outputs": [],
   "source": [
    "ords_prods_custs_merge_drop.loc[(ords_prods_custs_merge_drop['Age'] >= 46) & (ords_prods_custs_merge_drop['Age'] <= 65), 'Age_flag'] = 'Middle_adult'\n"
   ]
  },
  {
   "cell_type": "code",
   "execution_count": 32,
   "id": "ea86031b",
   "metadata": {},
   "outputs": [],
   "source": [
    "ords_prods_custs_merge_drop.loc[ords_prods_custs_merge_drop['Age'] >= 66, 'Age_flag'] = 'Old_adult'"
   ]
  },
  {
   "cell_type": "code",
   "execution_count": 33,
   "id": "c53bac17",
   "metadata": {},
   "outputs": [
    {
     "data": {
      "text/plain": [
       "Young_adult     13567057\n",
       "Middle_adult     9666673\n",
       "Old_adult        7730834\n",
       "Name: Age_flag, dtype: int64"
      ]
     },
     "execution_count": 33,
     "metadata": {},
     "output_type": "execute_result"
    }
   ],
   "source": [
    "# Check value counts of Age_flag\n",
    "ords_prods_custs_merge_drop['Age_flag'].value_counts(dropna = False)"
   ]
  },
  {
   "cell_type": "code",
   "execution_count": 34,
   "id": "0ed67f86",
   "metadata": {},
   "outputs": [
    {
     "data": {
      "text/html": [
       "<div>\n",
       "<style scoped>\n",
       "    .dataframe tbody tr th:only-of-type {\n",
       "        vertical-align: middle;\n",
       "    }\n",
       "\n",
       "    .dataframe tbody tr th {\n",
       "        vertical-align: top;\n",
       "    }\n",
       "\n",
       "    .dataframe thead th {\n",
       "        text-align: right;\n",
       "    }\n",
       "</style>\n",
       "<table border=\"1\" class=\"dataframe\">\n",
       "  <thead>\n",
       "    <tr style=\"text-align: right;\">\n",
       "      <th></th>\n",
       "      <th>user_id</th>\n",
       "      <th>Gender</th>\n",
       "      <th>STATE</th>\n",
       "      <th>Age</th>\n",
       "      <th>date_joined</th>\n",
       "      <th>n_dependants</th>\n",
       "      <th>fam_status</th>\n",
       "      <th>income</th>\n",
       "      <th>product_id</th>\n",
       "      <th>product_name</th>\n",
       "      <th>...</th>\n",
       "      <th>busiest_period_of_day</th>\n",
       "      <th>max_order</th>\n",
       "      <th>loyalty_flag</th>\n",
       "      <th>Ave_price</th>\n",
       "      <th>Spender_pattern</th>\n",
       "      <th>median_regularity</th>\n",
       "      <th>user_regularity</th>\n",
       "      <th>Region</th>\n",
       "      <th>exclusion_flag</th>\n",
       "      <th>Age_flag</th>\n",
       "    </tr>\n",
       "  </thead>\n",
       "  <tbody>\n",
       "    <tr>\n",
       "      <th>0</th>\n",
       "      <td>26711</td>\n",
       "      <td>Female</td>\n",
       "      <td>Missouri</td>\n",
       "      <td>48</td>\n",
       "      <td>1/1/2017</td>\n",
       "      <td>3</td>\n",
       "      <td>married</td>\n",
       "      <td>165665</td>\n",
       "      <td>196</td>\n",
       "      <td>Soda</td>\n",
       "      <td>...</td>\n",
       "      <td>Average orders</td>\n",
       "      <td>8</td>\n",
       "      <td>New customer</td>\n",
       "      <td>7.988889</td>\n",
       "      <td>Low spender</td>\n",
       "      <td>19.0</td>\n",
       "      <td>Regular customer</td>\n",
       "      <td>Northwest</td>\n",
       "      <td>high_activity_customers</td>\n",
       "      <td>Middle_adult</td>\n",
       "    </tr>\n",
       "    <tr>\n",
       "      <th>1</th>\n",
       "      <td>26711</td>\n",
       "      <td>Female</td>\n",
       "      <td>Missouri</td>\n",
       "      <td>48</td>\n",
       "      <td>1/1/2017</td>\n",
       "      <td>3</td>\n",
       "      <td>married</td>\n",
       "      <td>165665</td>\n",
       "      <td>196</td>\n",
       "      <td>Soda</td>\n",
       "      <td>...</td>\n",
       "      <td>Average orders</td>\n",
       "      <td>8</td>\n",
       "      <td>New customer</td>\n",
       "      <td>7.988889</td>\n",
       "      <td>Low spender</td>\n",
       "      <td>19.0</td>\n",
       "      <td>Regular customer</td>\n",
       "      <td>Northwest</td>\n",
       "      <td>high_activity_customers</td>\n",
       "      <td>Middle_adult</td>\n",
       "    </tr>\n",
       "    <tr>\n",
       "      <th>2</th>\n",
       "      <td>26711</td>\n",
       "      <td>Female</td>\n",
       "      <td>Missouri</td>\n",
       "      <td>48</td>\n",
       "      <td>1/1/2017</td>\n",
       "      <td>3</td>\n",
       "      <td>married</td>\n",
       "      <td>165665</td>\n",
       "      <td>196</td>\n",
       "      <td>Soda</td>\n",
       "      <td>...</td>\n",
       "      <td>Average orders</td>\n",
       "      <td>8</td>\n",
       "      <td>New customer</td>\n",
       "      <td>7.988889</td>\n",
       "      <td>Low spender</td>\n",
       "      <td>19.0</td>\n",
       "      <td>Regular customer</td>\n",
       "      <td>Northwest</td>\n",
       "      <td>high_activity_customers</td>\n",
       "      <td>Middle_adult</td>\n",
       "    </tr>\n",
       "    <tr>\n",
       "      <th>3</th>\n",
       "      <td>26711</td>\n",
       "      <td>Female</td>\n",
       "      <td>Missouri</td>\n",
       "      <td>48</td>\n",
       "      <td>1/1/2017</td>\n",
       "      <td>3</td>\n",
       "      <td>married</td>\n",
       "      <td>165665</td>\n",
       "      <td>6184</td>\n",
       "      <td>Clementines</td>\n",
       "      <td>...</td>\n",
       "      <td>Average orders</td>\n",
       "      <td>8</td>\n",
       "      <td>New customer</td>\n",
       "      <td>7.988889</td>\n",
       "      <td>Low spender</td>\n",
       "      <td>19.0</td>\n",
       "      <td>Regular customer</td>\n",
       "      <td>Northwest</td>\n",
       "      <td>high_activity_customers</td>\n",
       "      <td>Middle_adult</td>\n",
       "    </tr>\n",
       "    <tr>\n",
       "      <th>4</th>\n",
       "      <td>26711</td>\n",
       "      <td>Female</td>\n",
       "      <td>Missouri</td>\n",
       "      <td>48</td>\n",
       "      <td>1/1/2017</td>\n",
       "      <td>3</td>\n",
       "      <td>married</td>\n",
       "      <td>165665</td>\n",
       "      <td>6184</td>\n",
       "      <td>Clementines</td>\n",
       "      <td>...</td>\n",
       "      <td>Average orders</td>\n",
       "      <td>8</td>\n",
       "      <td>New customer</td>\n",
       "      <td>7.988889</td>\n",
       "      <td>Low spender</td>\n",
       "      <td>19.0</td>\n",
       "      <td>Regular customer</td>\n",
       "      <td>Northwest</td>\n",
       "      <td>high_activity_customers</td>\n",
       "      <td>Middle_adult</td>\n",
       "    </tr>\n",
       "  </tbody>\n",
       "</table>\n",
       "<p>5 rows × 35 columns</p>\n",
       "</div>"
      ],
      "text/plain": [
       "   user_id  Gender     STATE  Age date_joined  n_dependants fam_status  \\\n",
       "0    26711  Female  Missouri   48    1/1/2017             3    married   \n",
       "1    26711  Female  Missouri   48    1/1/2017             3    married   \n",
       "2    26711  Female  Missouri   48    1/1/2017             3    married   \n",
       "3    26711  Female  Missouri   48    1/1/2017             3    married   \n",
       "4    26711  Female  Missouri   48    1/1/2017             3    married   \n",
       "\n",
       "   income  product_id product_name  ...  busiest_period_of_day  max_order  \\\n",
       "0  165665         196         Soda  ...         Average orders          8   \n",
       "1  165665         196         Soda  ...         Average orders          8   \n",
       "2  165665         196         Soda  ...         Average orders          8   \n",
       "3  165665        6184  Clementines  ...         Average orders          8   \n",
       "4  165665        6184  Clementines  ...         Average orders          8   \n",
       "\n",
       "   loyalty_flag  Ave_price Spender_pattern  median_regularity  \\\n",
       "0  New customer   7.988889     Low spender               19.0   \n",
       "1  New customer   7.988889     Low spender               19.0   \n",
       "2  New customer   7.988889     Low spender               19.0   \n",
       "3  New customer   7.988889     Low spender               19.0   \n",
       "4  New customer   7.988889     Low spender               19.0   \n",
       "\n",
       "    user_regularity     Region           exclusion_flag      Age_flag  \n",
       "0  Regular customer  Northwest  high_activity_customers  Middle_adult  \n",
       "1  Regular customer  Northwest  high_activity_customers  Middle_adult  \n",
       "2  Regular customer  Northwest  high_activity_customers  Middle_adult  \n",
       "3  Regular customer  Northwest  high_activity_customers  Middle_adult  \n",
       "4  Regular customer  Northwest  high_activity_customers  Middle_adult  \n",
       "\n",
       "[5 rows x 35 columns]"
      ]
     },
     "execution_count": 34,
     "metadata": {},
     "output_type": "execute_result"
    }
   ],
   "source": [
    "ords_prods_custs_merge_drop.head(5)"
   ]
  },
  {
   "cell_type": "code",
   "execution_count": 35,
   "id": "5a9fa6d7",
   "metadata": {},
   "outputs": [
    {
     "data": {
      "text/plain": [
       "count    3.096456e+07\n",
       "mean     9.967587e+04\n",
       "std      4.314187e+04\n",
       "min      2.590300e+04\n",
       "25%      6.729200e+04\n",
       "50%      9.676500e+04\n",
       "75%      1.281020e+05\n",
       "max      5.939010e+05\n",
       "Name: income, dtype: float64"
      ]
     },
     "execution_count": 35,
     "metadata": {},
     "output_type": "execute_result"
    }
   ],
   "source": [
    "# income\n",
    "\n",
    "ords_prods_custs_merge_drop['income'].describe()"
   ]
  },
  {
   "cell_type": "markdown",
   "id": "a0a240e5",
   "metadata": {},
   "source": [
    "#\n",
    "The average income is 99,700, the minimum income is 25,900, and the maximum income is  593,900. The income will be grouped as low income-25,900  to 50,000, middle income- 50,001 to 100,000 and high income- above 100,001 "
   ]
  },
  {
   "cell_type": "code",
   "execution_count": 36,
   "id": "55c27261",
   "metadata": {},
   "outputs": [],
   "source": [
    "# Create age_flag\n",
    "\n",
    "ords_prods_custs_merge_drop.loc[ords_prods_custs_merge_drop['income'] <= 50000, 'Income_flag'] = 'Low income'"
   ]
  },
  {
   "cell_type": "code",
   "execution_count": 37,
   "id": "9474db21",
   "metadata": {},
   "outputs": [],
   "source": [
    "ords_prods_custs_merge_drop.loc[(ords_prods_custs_merge_drop['income'] >= 50001 ) & (ords_prods_custs_merge_drop['income'] <= 100000 ), 'Income_flag'] = 'Middle income'"
   ]
  },
  {
   "cell_type": "code",
   "execution_count": 38,
   "id": "48f05449",
   "metadata": {},
   "outputs": [],
   "source": [
    "ords_prods_custs_merge_drop.loc[ords_prods_custs_merge_drop['income'] >= 100001 , 'Income_flag'] = 'High income'"
   ]
  },
  {
   "cell_type": "code",
   "execution_count": 39,
   "id": "55e2a099",
   "metadata": {},
   "outputs": [
    {
     "data": {
      "text/plain": [
       "High income      14207028\n",
       "Middle income    13394982\n",
       "Low income        3362554\n",
       "Name: Income_flag, dtype: int64"
      ]
     },
     "execution_count": 39,
     "metadata": {},
     "output_type": "execute_result"
    }
   ],
   "source": [
    "# Check value counts of Income_flag\n",
    "ords_prods_custs_merge_drop['Income_flag'].value_counts(dropna = False)"
   ]
  },
  {
   "cell_type": "code",
   "execution_count": 40,
   "id": "01a11a4a",
   "metadata": {},
   "outputs": [
    {
     "data": {
      "text/html": [
       "<div>\n",
       "<style scoped>\n",
       "    .dataframe tbody tr th:only-of-type {\n",
       "        vertical-align: middle;\n",
       "    }\n",
       "\n",
       "    .dataframe tbody tr th {\n",
       "        vertical-align: top;\n",
       "    }\n",
       "\n",
       "    .dataframe thead th {\n",
       "        text-align: right;\n",
       "    }\n",
       "</style>\n",
       "<table border=\"1\" class=\"dataframe\">\n",
       "  <thead>\n",
       "    <tr style=\"text-align: right;\">\n",
       "      <th></th>\n",
       "      <th>user_id</th>\n",
       "      <th>Gender</th>\n",
       "      <th>STATE</th>\n",
       "      <th>Age</th>\n",
       "      <th>date_joined</th>\n",
       "      <th>n_dependants</th>\n",
       "      <th>fam_status</th>\n",
       "      <th>income</th>\n",
       "      <th>product_id</th>\n",
       "      <th>product_name</th>\n",
       "      <th>...</th>\n",
       "      <th>max_order</th>\n",
       "      <th>loyalty_flag</th>\n",
       "      <th>Ave_price</th>\n",
       "      <th>Spender_pattern</th>\n",
       "      <th>median_regularity</th>\n",
       "      <th>user_regularity</th>\n",
       "      <th>Region</th>\n",
       "      <th>exclusion_flag</th>\n",
       "      <th>Age_flag</th>\n",
       "      <th>Income_flag</th>\n",
       "    </tr>\n",
       "  </thead>\n",
       "  <tbody>\n",
       "    <tr>\n",
       "      <th>0</th>\n",
       "      <td>26711</td>\n",
       "      <td>Female</td>\n",
       "      <td>Missouri</td>\n",
       "      <td>48</td>\n",
       "      <td>1/1/2017</td>\n",
       "      <td>3</td>\n",
       "      <td>married</td>\n",
       "      <td>165665</td>\n",
       "      <td>196</td>\n",
       "      <td>Soda</td>\n",
       "      <td>...</td>\n",
       "      <td>8</td>\n",
       "      <td>New customer</td>\n",
       "      <td>7.988889</td>\n",
       "      <td>Low spender</td>\n",
       "      <td>19.0</td>\n",
       "      <td>Regular customer</td>\n",
       "      <td>Northwest</td>\n",
       "      <td>high_activity_customers</td>\n",
       "      <td>Middle_adult</td>\n",
       "      <td>High income</td>\n",
       "    </tr>\n",
       "    <tr>\n",
       "      <th>1</th>\n",
       "      <td>26711</td>\n",
       "      <td>Female</td>\n",
       "      <td>Missouri</td>\n",
       "      <td>48</td>\n",
       "      <td>1/1/2017</td>\n",
       "      <td>3</td>\n",
       "      <td>married</td>\n",
       "      <td>165665</td>\n",
       "      <td>196</td>\n",
       "      <td>Soda</td>\n",
       "      <td>...</td>\n",
       "      <td>8</td>\n",
       "      <td>New customer</td>\n",
       "      <td>7.988889</td>\n",
       "      <td>Low spender</td>\n",
       "      <td>19.0</td>\n",
       "      <td>Regular customer</td>\n",
       "      <td>Northwest</td>\n",
       "      <td>high_activity_customers</td>\n",
       "      <td>Middle_adult</td>\n",
       "      <td>High income</td>\n",
       "    </tr>\n",
       "    <tr>\n",
       "      <th>2</th>\n",
       "      <td>26711</td>\n",
       "      <td>Female</td>\n",
       "      <td>Missouri</td>\n",
       "      <td>48</td>\n",
       "      <td>1/1/2017</td>\n",
       "      <td>3</td>\n",
       "      <td>married</td>\n",
       "      <td>165665</td>\n",
       "      <td>196</td>\n",
       "      <td>Soda</td>\n",
       "      <td>...</td>\n",
       "      <td>8</td>\n",
       "      <td>New customer</td>\n",
       "      <td>7.988889</td>\n",
       "      <td>Low spender</td>\n",
       "      <td>19.0</td>\n",
       "      <td>Regular customer</td>\n",
       "      <td>Northwest</td>\n",
       "      <td>high_activity_customers</td>\n",
       "      <td>Middle_adult</td>\n",
       "      <td>High income</td>\n",
       "    </tr>\n",
       "    <tr>\n",
       "      <th>3</th>\n",
       "      <td>26711</td>\n",
       "      <td>Female</td>\n",
       "      <td>Missouri</td>\n",
       "      <td>48</td>\n",
       "      <td>1/1/2017</td>\n",
       "      <td>3</td>\n",
       "      <td>married</td>\n",
       "      <td>165665</td>\n",
       "      <td>6184</td>\n",
       "      <td>Clementines</td>\n",
       "      <td>...</td>\n",
       "      <td>8</td>\n",
       "      <td>New customer</td>\n",
       "      <td>7.988889</td>\n",
       "      <td>Low spender</td>\n",
       "      <td>19.0</td>\n",
       "      <td>Regular customer</td>\n",
       "      <td>Northwest</td>\n",
       "      <td>high_activity_customers</td>\n",
       "      <td>Middle_adult</td>\n",
       "      <td>High income</td>\n",
       "    </tr>\n",
       "    <tr>\n",
       "      <th>4</th>\n",
       "      <td>26711</td>\n",
       "      <td>Female</td>\n",
       "      <td>Missouri</td>\n",
       "      <td>48</td>\n",
       "      <td>1/1/2017</td>\n",
       "      <td>3</td>\n",
       "      <td>married</td>\n",
       "      <td>165665</td>\n",
       "      <td>6184</td>\n",
       "      <td>Clementines</td>\n",
       "      <td>...</td>\n",
       "      <td>8</td>\n",
       "      <td>New customer</td>\n",
       "      <td>7.988889</td>\n",
       "      <td>Low spender</td>\n",
       "      <td>19.0</td>\n",
       "      <td>Regular customer</td>\n",
       "      <td>Northwest</td>\n",
       "      <td>high_activity_customers</td>\n",
       "      <td>Middle_adult</td>\n",
       "      <td>High income</td>\n",
       "    </tr>\n",
       "  </tbody>\n",
       "</table>\n",
       "<p>5 rows × 36 columns</p>\n",
       "</div>"
      ],
      "text/plain": [
       "   user_id  Gender     STATE  Age date_joined  n_dependants fam_status  \\\n",
       "0    26711  Female  Missouri   48    1/1/2017             3    married   \n",
       "1    26711  Female  Missouri   48    1/1/2017             3    married   \n",
       "2    26711  Female  Missouri   48    1/1/2017             3    married   \n",
       "3    26711  Female  Missouri   48    1/1/2017             3    married   \n",
       "4    26711  Female  Missouri   48    1/1/2017             3    married   \n",
       "\n",
       "   income  product_id product_name  ...  max_order  loyalty_flag  Ave_price  \\\n",
       "0  165665         196         Soda  ...          8  New customer   7.988889   \n",
       "1  165665         196         Soda  ...          8  New customer   7.988889   \n",
       "2  165665         196         Soda  ...          8  New customer   7.988889   \n",
       "3  165665        6184  Clementines  ...          8  New customer   7.988889   \n",
       "4  165665        6184  Clementines  ...          8  New customer   7.988889   \n",
       "\n",
       "   Spender_pattern median_regularity   user_regularity     Region  \\\n",
       "0      Low spender              19.0  Regular customer  Northwest   \n",
       "1      Low spender              19.0  Regular customer  Northwest   \n",
       "2      Low spender              19.0  Regular customer  Northwest   \n",
       "3      Low spender              19.0  Regular customer  Northwest   \n",
       "4      Low spender              19.0  Regular customer  Northwest   \n",
       "\n",
       "            exclusion_flag      Age_flag  Income_flag  \n",
       "0  high_activity_customers  Middle_adult  High income  \n",
       "1  high_activity_customers  Middle_adult  High income  \n",
       "2  high_activity_customers  Middle_adult  High income  \n",
       "3  high_activity_customers  Middle_adult  High income  \n",
       "4  high_activity_customers  Middle_adult  High income  \n",
       "\n",
       "[5 rows x 36 columns]"
      ]
     },
     "execution_count": 40,
     "metadata": {},
     "output_type": "execute_result"
    }
   ],
   "source": [
    "ords_prods_custs_merge_drop.head(5)"
   ]
  },
  {
   "cell_type": "code",
   "execution_count": 41,
   "id": "1139c595",
   "metadata": {},
   "outputs": [
    {
     "data": {
      "text/plain": [
       "count    3.096456e+07\n",
       "mean     1.501819e+00\n",
       "std      1.118896e+00\n",
       "min      0.000000e+00\n",
       "25%      1.000000e+00\n",
       "50%      2.000000e+00\n",
       "75%      3.000000e+00\n",
       "max      3.000000e+00\n",
       "Name: n_dependants, dtype: float64"
      ]
     },
     "execution_count": 41,
     "metadata": {},
     "output_type": "execute_result"
    }
   ],
   "source": [
    "# number of dependents\n",
    "\n",
    "ords_prods_custs_merge_drop['n_dependants'].describe()"
   ]
  },
  {
   "cell_type": "markdown",
   "id": "75c093fd",
   "metadata": {},
   "source": [
    "# \n",
    "The number of dependants are from 0-3. The n_dependants will be grouped as single-0  to , family with child- 1,  family with children - 2 to 3."
   ]
  },
  {
   "cell_type": "code",
   "execution_count": 42,
   "id": "27d90ebf",
   "metadata": {},
   "outputs": [],
   "source": [
    "# Create age_flag\n",
    "ords_prods_custs_merge_drop.loc[ords_prods_custs_merge_drop['n_dependants'] <= 0, 'Familystatus_flag'] = 'Single'"
   ]
  },
  {
   "cell_type": "code",
   "execution_count": 43,
   "id": "326e7fbf",
   "metadata": {},
   "outputs": [],
   "source": [
    "ords_prods_custs_merge_drop.loc[ords_prods_custs_merge_drop['n_dependants'] >= 1 , 'Familystatus_flag'] = 'Family with dependant '\n"
   ]
  },
  {
   "cell_type": "code",
   "execution_count": 44,
   "id": "eb3b96a6",
   "metadata": {},
   "outputs": [
    {
     "data": {
      "text/plain": [
       "Family with dependant     23224883\n",
       "Single                     7739681\n",
       "Name: Familystatus_flag, dtype: int64"
      ]
     },
     "execution_count": 44,
     "metadata": {},
     "output_type": "execute_result"
    }
   ],
   "source": [
    "# Check value counts of Familystatus_flag\n",
    "ords_prods_custs_merge_drop['Familystatus_flag'].value_counts(dropna = False)"
   ]
  },
  {
   "cell_type": "code",
   "execution_count": 45,
   "id": "da0c54f3",
   "metadata": {},
   "outputs": [
    {
     "data": {
      "text/html": [
       "<div>\n",
       "<style scoped>\n",
       "    .dataframe tbody tr th:only-of-type {\n",
       "        vertical-align: middle;\n",
       "    }\n",
       "\n",
       "    .dataframe tbody tr th {\n",
       "        vertical-align: top;\n",
       "    }\n",
       "\n",
       "    .dataframe thead th {\n",
       "        text-align: right;\n",
       "    }\n",
       "</style>\n",
       "<table border=\"1\" class=\"dataframe\">\n",
       "  <thead>\n",
       "    <tr style=\"text-align: right;\">\n",
       "      <th></th>\n",
       "      <th>user_id</th>\n",
       "      <th>Gender</th>\n",
       "      <th>STATE</th>\n",
       "      <th>Age</th>\n",
       "      <th>date_joined</th>\n",
       "      <th>n_dependants</th>\n",
       "      <th>fam_status</th>\n",
       "      <th>income</th>\n",
       "      <th>product_id</th>\n",
       "      <th>product_name</th>\n",
       "      <th>...</th>\n",
       "      <th>loyalty_flag</th>\n",
       "      <th>Ave_price</th>\n",
       "      <th>Spender_pattern</th>\n",
       "      <th>median_regularity</th>\n",
       "      <th>user_regularity</th>\n",
       "      <th>Region</th>\n",
       "      <th>exclusion_flag</th>\n",
       "      <th>Age_flag</th>\n",
       "      <th>Income_flag</th>\n",
       "      <th>Familystatus_flag</th>\n",
       "    </tr>\n",
       "  </thead>\n",
       "  <tbody>\n",
       "    <tr>\n",
       "      <th>0</th>\n",
       "      <td>26711</td>\n",
       "      <td>Female</td>\n",
       "      <td>Missouri</td>\n",
       "      <td>48</td>\n",
       "      <td>1/1/2017</td>\n",
       "      <td>3</td>\n",
       "      <td>married</td>\n",
       "      <td>165665</td>\n",
       "      <td>196</td>\n",
       "      <td>Soda</td>\n",
       "      <td>...</td>\n",
       "      <td>New customer</td>\n",
       "      <td>7.988889</td>\n",
       "      <td>Low spender</td>\n",
       "      <td>19.0</td>\n",
       "      <td>Regular customer</td>\n",
       "      <td>Northwest</td>\n",
       "      <td>high_activity_customers</td>\n",
       "      <td>Middle_adult</td>\n",
       "      <td>High income</td>\n",
       "      <td>Family with dependant</td>\n",
       "    </tr>\n",
       "    <tr>\n",
       "      <th>1</th>\n",
       "      <td>26711</td>\n",
       "      <td>Female</td>\n",
       "      <td>Missouri</td>\n",
       "      <td>48</td>\n",
       "      <td>1/1/2017</td>\n",
       "      <td>3</td>\n",
       "      <td>married</td>\n",
       "      <td>165665</td>\n",
       "      <td>196</td>\n",
       "      <td>Soda</td>\n",
       "      <td>...</td>\n",
       "      <td>New customer</td>\n",
       "      <td>7.988889</td>\n",
       "      <td>Low spender</td>\n",
       "      <td>19.0</td>\n",
       "      <td>Regular customer</td>\n",
       "      <td>Northwest</td>\n",
       "      <td>high_activity_customers</td>\n",
       "      <td>Middle_adult</td>\n",
       "      <td>High income</td>\n",
       "      <td>Family with dependant</td>\n",
       "    </tr>\n",
       "    <tr>\n",
       "      <th>2</th>\n",
       "      <td>26711</td>\n",
       "      <td>Female</td>\n",
       "      <td>Missouri</td>\n",
       "      <td>48</td>\n",
       "      <td>1/1/2017</td>\n",
       "      <td>3</td>\n",
       "      <td>married</td>\n",
       "      <td>165665</td>\n",
       "      <td>196</td>\n",
       "      <td>Soda</td>\n",
       "      <td>...</td>\n",
       "      <td>New customer</td>\n",
       "      <td>7.988889</td>\n",
       "      <td>Low spender</td>\n",
       "      <td>19.0</td>\n",
       "      <td>Regular customer</td>\n",
       "      <td>Northwest</td>\n",
       "      <td>high_activity_customers</td>\n",
       "      <td>Middle_adult</td>\n",
       "      <td>High income</td>\n",
       "      <td>Family with dependant</td>\n",
       "    </tr>\n",
       "    <tr>\n",
       "      <th>3</th>\n",
       "      <td>26711</td>\n",
       "      <td>Female</td>\n",
       "      <td>Missouri</td>\n",
       "      <td>48</td>\n",
       "      <td>1/1/2017</td>\n",
       "      <td>3</td>\n",
       "      <td>married</td>\n",
       "      <td>165665</td>\n",
       "      <td>6184</td>\n",
       "      <td>Clementines</td>\n",
       "      <td>...</td>\n",
       "      <td>New customer</td>\n",
       "      <td>7.988889</td>\n",
       "      <td>Low spender</td>\n",
       "      <td>19.0</td>\n",
       "      <td>Regular customer</td>\n",
       "      <td>Northwest</td>\n",
       "      <td>high_activity_customers</td>\n",
       "      <td>Middle_adult</td>\n",
       "      <td>High income</td>\n",
       "      <td>Family with dependant</td>\n",
       "    </tr>\n",
       "    <tr>\n",
       "      <th>4</th>\n",
       "      <td>26711</td>\n",
       "      <td>Female</td>\n",
       "      <td>Missouri</td>\n",
       "      <td>48</td>\n",
       "      <td>1/1/2017</td>\n",
       "      <td>3</td>\n",
       "      <td>married</td>\n",
       "      <td>165665</td>\n",
       "      <td>6184</td>\n",
       "      <td>Clementines</td>\n",
       "      <td>...</td>\n",
       "      <td>New customer</td>\n",
       "      <td>7.988889</td>\n",
       "      <td>Low spender</td>\n",
       "      <td>19.0</td>\n",
       "      <td>Regular customer</td>\n",
       "      <td>Northwest</td>\n",
       "      <td>high_activity_customers</td>\n",
       "      <td>Middle_adult</td>\n",
       "      <td>High income</td>\n",
       "      <td>Family with dependant</td>\n",
       "    </tr>\n",
       "  </tbody>\n",
       "</table>\n",
       "<p>5 rows × 37 columns</p>\n",
       "</div>"
      ],
      "text/plain": [
       "   user_id  Gender     STATE  Age date_joined  n_dependants fam_status  \\\n",
       "0    26711  Female  Missouri   48    1/1/2017             3    married   \n",
       "1    26711  Female  Missouri   48    1/1/2017             3    married   \n",
       "2    26711  Female  Missouri   48    1/1/2017             3    married   \n",
       "3    26711  Female  Missouri   48    1/1/2017             3    married   \n",
       "4    26711  Female  Missouri   48    1/1/2017             3    married   \n",
       "\n",
       "   income  product_id product_name  ...  loyalty_flag  Ave_price  \\\n",
       "0  165665         196         Soda  ...  New customer   7.988889   \n",
       "1  165665         196         Soda  ...  New customer   7.988889   \n",
       "2  165665         196         Soda  ...  New customer   7.988889   \n",
       "3  165665        6184  Clementines  ...  New customer   7.988889   \n",
       "4  165665        6184  Clementines  ...  New customer   7.988889   \n",
       "\n",
       "   Spender_pattern  median_regularity   user_regularity     Region  \\\n",
       "0      Low spender               19.0  Regular customer  Northwest   \n",
       "1      Low spender               19.0  Regular customer  Northwest   \n",
       "2      Low spender               19.0  Regular customer  Northwest   \n",
       "3      Low spender               19.0  Regular customer  Northwest   \n",
       "4      Low spender               19.0  Regular customer  Northwest   \n",
       "\n",
       "            exclusion_flag      Age_flag  Income_flag       Familystatus_flag  \n",
       "0  high_activity_customers  Middle_adult  High income  Family with dependant   \n",
       "1  high_activity_customers  Middle_adult  High income  Family with dependant   \n",
       "2  high_activity_customers  Middle_adult  High income  Family with dependant   \n",
       "3  high_activity_customers  Middle_adult  High income  Family with dependant   \n",
       "4  high_activity_customers  Middle_adult  High income  Family with dependant   \n",
       "\n",
       "[5 rows x 37 columns]"
      ]
     },
     "execution_count": 45,
     "metadata": {},
     "output_type": "execute_result"
    }
   ],
   "source": [
    "ords_prods_custs_merge_drop.head(5)"
   ]
  },
  {
   "cell_type": "code",
   "execution_count": 46,
   "id": "a1aa6565",
   "metadata": {},
   "outputs": [
    {
     "data": {
      "text/plain": [
       "4     9079273\n",
       "16    5177182\n",
       "19    2766406\n",
       "7     2571901\n",
       "1     2121731\n",
       "13    1782705\n",
       "3     1120828\n",
       "15    1012074\n",
       "20    1003834\n",
       "9      822136\n",
       "17     699857\n",
       "12     674781\n",
       "14     670850\n",
       "11     424306\n",
       "18     410392\n",
       "6      255991\n",
       "5      144627\n",
       "8       93060\n",
       "21      64768\n",
       "2       34411\n",
       "10      33451\n",
       "Name: department_id, dtype: int64"
      ]
     },
     "execution_count": 46,
     "metadata": {},
     "output_type": "execute_result"
    }
   ],
   "source": [
    "# department_id\n",
    "\n",
    "ords_prods_custs_merge_drop['department_id'].value_counts(dropna = False)"
   ]
  },
  {
   "cell_type": "code",
   "execution_count": 47,
   "id": "32867d8b",
   "metadata": {
    "scrolled": true
   },
   "outputs": [],
   "source": [
    "\n",
    "df_dep_t = pd.read_csv(os.path.join(path, '02 Data','Prepared Data for storing any manipulated data sets', 'departments_wrangled.csv'))"
   ]
  },
  {
   "cell_type": "code",
   "execution_count": 48,
   "id": "f5da7898",
   "metadata": {},
   "outputs": [
    {
     "data": {
      "text/html": [
       "<div>\n",
       "<style scoped>\n",
       "    .dataframe tbody tr th:only-of-type {\n",
       "        vertical-align: middle;\n",
       "    }\n",
       "\n",
       "    .dataframe tbody tr th {\n",
       "        vertical-align: top;\n",
       "    }\n",
       "\n",
       "    .dataframe thead th {\n",
       "        text-align: right;\n",
       "    }\n",
       "</style>\n",
       "<table border=\"1\" class=\"dataframe\">\n",
       "  <thead>\n",
       "    <tr style=\"text-align: right;\">\n",
       "      <th></th>\n",
       "      <th>Unnamed: 0</th>\n",
       "      <th>0</th>\n",
       "    </tr>\n",
       "  </thead>\n",
       "  <tbody>\n",
       "    <tr>\n",
       "      <th>0</th>\n",
       "      <td>department_id</td>\n",
       "      <td>department</td>\n",
       "    </tr>\n",
       "    <tr>\n",
       "      <th>1</th>\n",
       "      <td>1</td>\n",
       "      <td>frozen</td>\n",
       "    </tr>\n",
       "    <tr>\n",
       "      <th>2</th>\n",
       "      <td>2</td>\n",
       "      <td>other</td>\n",
       "    </tr>\n",
       "    <tr>\n",
       "      <th>3</th>\n",
       "      <td>3</td>\n",
       "      <td>bakery</td>\n",
       "    </tr>\n",
       "    <tr>\n",
       "      <th>4</th>\n",
       "      <td>4</td>\n",
       "      <td>produce</td>\n",
       "    </tr>\n",
       "    <tr>\n",
       "      <th>5</th>\n",
       "      <td>5</td>\n",
       "      <td>alcohol</td>\n",
       "    </tr>\n",
       "    <tr>\n",
       "      <th>6</th>\n",
       "      <td>6</td>\n",
       "      <td>international</td>\n",
       "    </tr>\n",
       "    <tr>\n",
       "      <th>7</th>\n",
       "      <td>7</td>\n",
       "      <td>beverages</td>\n",
       "    </tr>\n",
       "    <tr>\n",
       "      <th>8</th>\n",
       "      <td>8</td>\n",
       "      <td>pets</td>\n",
       "    </tr>\n",
       "    <tr>\n",
       "      <th>9</th>\n",
       "      <td>9</td>\n",
       "      <td>dry goods pasta</td>\n",
       "    </tr>\n",
       "    <tr>\n",
       "      <th>10</th>\n",
       "      <td>10</td>\n",
       "      <td>bulk</td>\n",
       "    </tr>\n",
       "    <tr>\n",
       "      <th>11</th>\n",
       "      <td>11</td>\n",
       "      <td>personal care</td>\n",
       "    </tr>\n",
       "    <tr>\n",
       "      <th>12</th>\n",
       "      <td>12</td>\n",
       "      <td>meat seafood</td>\n",
       "    </tr>\n",
       "    <tr>\n",
       "      <th>13</th>\n",
       "      <td>13</td>\n",
       "      <td>pantry</td>\n",
       "    </tr>\n",
       "    <tr>\n",
       "      <th>14</th>\n",
       "      <td>14</td>\n",
       "      <td>breakfast</td>\n",
       "    </tr>\n",
       "    <tr>\n",
       "      <th>15</th>\n",
       "      <td>15</td>\n",
       "      <td>canned goods</td>\n",
       "    </tr>\n",
       "    <tr>\n",
       "      <th>16</th>\n",
       "      <td>16</td>\n",
       "      <td>dairy eggs</td>\n",
       "    </tr>\n",
       "    <tr>\n",
       "      <th>17</th>\n",
       "      <td>17</td>\n",
       "      <td>household</td>\n",
       "    </tr>\n",
       "    <tr>\n",
       "      <th>18</th>\n",
       "      <td>18</td>\n",
       "      <td>babies</td>\n",
       "    </tr>\n",
       "    <tr>\n",
       "      <th>19</th>\n",
       "      <td>19</td>\n",
       "      <td>snacks</td>\n",
       "    </tr>\n",
       "    <tr>\n",
       "      <th>20</th>\n",
       "      <td>20</td>\n",
       "      <td>deli</td>\n",
       "    </tr>\n",
       "    <tr>\n",
       "      <th>21</th>\n",
       "      <td>21</td>\n",
       "      <td>missing</td>\n",
       "    </tr>\n",
       "  </tbody>\n",
       "</table>\n",
       "</div>"
      ],
      "text/plain": [
       "       Unnamed: 0                0\n",
       "0   department_id       department\n",
       "1               1           frozen\n",
       "2               2            other\n",
       "3               3           bakery\n",
       "4               4          produce\n",
       "5               5          alcohol\n",
       "6               6    international\n",
       "7               7        beverages\n",
       "8               8             pets\n",
       "9               9  dry goods pasta\n",
       "10             10             bulk\n",
       "11             11    personal care\n",
       "12             12     meat seafood\n",
       "13             13           pantry\n",
       "14             14        breakfast\n",
       "15             15     canned goods\n",
       "16             16       dairy eggs\n",
       "17             17        household\n",
       "18             18           babies\n",
       "19             19           snacks\n",
       "20             20             deli\n",
       "21             21          missing"
      ]
     },
     "execution_count": 48,
     "metadata": {},
     "output_type": "execute_result"
    }
   ],
   "source": [
    "df_dep_t"
   ]
  },
  {
   "cell_type": "code",
   "execution_count": 49,
   "id": "46e7b97d",
   "metadata": {},
   "outputs": [],
   "source": [
    "# creating a new header\n",
    "new_header = df_dep_t.iloc[0]"
   ]
  },
  {
   "cell_type": "code",
   "execution_count": 50,
   "id": "c1a41769",
   "metadata": {},
   "outputs": [
    {
     "data": {
      "text/plain": [
       "Unnamed: 0    department_id\n",
       "0                department\n",
       "Name: 0, dtype: object"
      ]
     },
     "execution_count": 50,
     "metadata": {},
     "output_type": "execute_result"
    }
   ],
   "source": [
    "new_header"
   ]
  },
  {
   "cell_type": "code",
   "execution_count": 51,
   "id": "d0d2a60d",
   "metadata": {},
   "outputs": [],
   "source": [
    "# creating a new dataframe \n",
    "df_dep_t_new = df_dep_t[1:]"
   ]
  },
  {
   "cell_type": "code",
   "execution_count": 52,
   "id": "c047305f",
   "metadata": {},
   "outputs": [
    {
     "data": {
      "text/html": [
       "<div>\n",
       "<style scoped>\n",
       "    .dataframe tbody tr th:only-of-type {\n",
       "        vertical-align: middle;\n",
       "    }\n",
       "\n",
       "    .dataframe tbody tr th {\n",
       "        vertical-align: top;\n",
       "    }\n",
       "\n",
       "    .dataframe thead th {\n",
       "        text-align: right;\n",
       "    }\n",
       "</style>\n",
       "<table border=\"1\" class=\"dataframe\">\n",
       "  <thead>\n",
       "    <tr style=\"text-align: right;\">\n",
       "      <th></th>\n",
       "      <th>Unnamed: 0</th>\n",
       "      <th>0</th>\n",
       "    </tr>\n",
       "  </thead>\n",
       "  <tbody>\n",
       "    <tr>\n",
       "      <th>1</th>\n",
       "      <td>1</td>\n",
       "      <td>frozen</td>\n",
       "    </tr>\n",
       "    <tr>\n",
       "      <th>2</th>\n",
       "      <td>2</td>\n",
       "      <td>other</td>\n",
       "    </tr>\n",
       "    <tr>\n",
       "      <th>3</th>\n",
       "      <td>3</td>\n",
       "      <td>bakery</td>\n",
       "    </tr>\n",
       "    <tr>\n",
       "      <th>4</th>\n",
       "      <td>4</td>\n",
       "      <td>produce</td>\n",
       "    </tr>\n",
       "    <tr>\n",
       "      <th>5</th>\n",
       "      <td>5</td>\n",
       "      <td>alcohol</td>\n",
       "    </tr>\n",
       "    <tr>\n",
       "      <th>6</th>\n",
       "      <td>6</td>\n",
       "      <td>international</td>\n",
       "    </tr>\n",
       "    <tr>\n",
       "      <th>7</th>\n",
       "      <td>7</td>\n",
       "      <td>beverages</td>\n",
       "    </tr>\n",
       "    <tr>\n",
       "      <th>8</th>\n",
       "      <td>8</td>\n",
       "      <td>pets</td>\n",
       "    </tr>\n",
       "    <tr>\n",
       "      <th>9</th>\n",
       "      <td>9</td>\n",
       "      <td>dry goods pasta</td>\n",
       "    </tr>\n",
       "    <tr>\n",
       "      <th>10</th>\n",
       "      <td>10</td>\n",
       "      <td>bulk</td>\n",
       "    </tr>\n",
       "    <tr>\n",
       "      <th>11</th>\n",
       "      <td>11</td>\n",
       "      <td>personal care</td>\n",
       "    </tr>\n",
       "    <tr>\n",
       "      <th>12</th>\n",
       "      <td>12</td>\n",
       "      <td>meat seafood</td>\n",
       "    </tr>\n",
       "    <tr>\n",
       "      <th>13</th>\n",
       "      <td>13</td>\n",
       "      <td>pantry</td>\n",
       "    </tr>\n",
       "    <tr>\n",
       "      <th>14</th>\n",
       "      <td>14</td>\n",
       "      <td>breakfast</td>\n",
       "    </tr>\n",
       "    <tr>\n",
       "      <th>15</th>\n",
       "      <td>15</td>\n",
       "      <td>canned goods</td>\n",
       "    </tr>\n",
       "    <tr>\n",
       "      <th>16</th>\n",
       "      <td>16</td>\n",
       "      <td>dairy eggs</td>\n",
       "    </tr>\n",
       "    <tr>\n",
       "      <th>17</th>\n",
       "      <td>17</td>\n",
       "      <td>household</td>\n",
       "    </tr>\n",
       "    <tr>\n",
       "      <th>18</th>\n",
       "      <td>18</td>\n",
       "      <td>babies</td>\n",
       "    </tr>\n",
       "    <tr>\n",
       "      <th>19</th>\n",
       "      <td>19</td>\n",
       "      <td>snacks</td>\n",
       "    </tr>\n",
       "    <tr>\n",
       "      <th>20</th>\n",
       "      <td>20</td>\n",
       "      <td>deli</td>\n",
       "    </tr>\n",
       "    <tr>\n",
       "      <th>21</th>\n",
       "      <td>21</td>\n",
       "      <td>missing</td>\n",
       "    </tr>\n",
       "  </tbody>\n",
       "</table>\n",
       "</div>"
      ],
      "text/plain": [
       "   Unnamed: 0                0\n",
       "1           1           frozen\n",
       "2           2            other\n",
       "3           3           bakery\n",
       "4           4          produce\n",
       "5           5          alcohol\n",
       "6           6    international\n",
       "7           7        beverages\n",
       "8           8             pets\n",
       "9           9  dry goods pasta\n",
       "10         10             bulk\n",
       "11         11    personal care\n",
       "12         12     meat seafood\n",
       "13         13           pantry\n",
       "14         14        breakfast\n",
       "15         15     canned goods\n",
       "16         16       dairy eggs\n",
       "17         17        household\n",
       "18         18           babies\n",
       "19         19           snacks\n",
       "20         20             deli\n",
       "21         21          missing"
      ]
     },
     "execution_count": 52,
     "metadata": {},
     "output_type": "execute_result"
    }
   ],
   "source": [
    "df_dep_t_new"
   ]
  },
  {
   "cell_type": "code",
   "execution_count": 53,
   "id": "3e7b394f",
   "metadata": {
    "scrolled": true
   },
   "outputs": [],
   "source": [
    "df_dep_t_new.columns = new_header"
   ]
  },
  {
   "cell_type": "code",
   "execution_count": 54,
   "id": "0a9c4ede",
   "metadata": {},
   "outputs": [
    {
     "data": {
      "text/plain": [
       "Index(['department_id', 'department'], dtype='object', name=0)"
      ]
     },
     "execution_count": 54,
     "metadata": {},
     "output_type": "execute_result"
    }
   ],
   "source": [
    "df_dep_t_new.columns"
   ]
  },
  {
   "cell_type": "code",
   "execution_count": 55,
   "id": "354e5cd6",
   "metadata": {
    "scrolled": true
   },
   "outputs": [],
   "source": [
    "department_id = df_dep_t_new"
   ]
  },
  {
   "cell_type": "code",
   "execution_count": 56,
   "id": "e9cd615b",
   "metadata": {
    "scrolled": false
   },
   "outputs": [
    {
     "data": {
      "text/html": [
       "<div>\n",
       "<style scoped>\n",
       "    .dataframe tbody tr th:only-of-type {\n",
       "        vertical-align: middle;\n",
       "    }\n",
       "\n",
       "    .dataframe tbody tr th {\n",
       "        vertical-align: top;\n",
       "    }\n",
       "\n",
       "    .dataframe thead th {\n",
       "        text-align: right;\n",
       "    }\n",
       "</style>\n",
       "<table border=\"1\" class=\"dataframe\">\n",
       "  <thead>\n",
       "    <tr style=\"text-align: right;\">\n",
       "      <th></th>\n",
       "      <th>department_id</th>\n",
       "      <th>department</th>\n",
       "    </tr>\n",
       "  </thead>\n",
       "  <tbody>\n",
       "    <tr>\n",
       "      <th>1</th>\n",
       "      <td>1</td>\n",
       "      <td>frozen</td>\n",
       "    </tr>\n",
       "    <tr>\n",
       "      <th>2</th>\n",
       "      <td>2</td>\n",
       "      <td>other</td>\n",
       "    </tr>\n",
       "    <tr>\n",
       "      <th>3</th>\n",
       "      <td>3</td>\n",
       "      <td>bakery</td>\n",
       "    </tr>\n",
       "    <tr>\n",
       "      <th>4</th>\n",
       "      <td>4</td>\n",
       "      <td>produce</td>\n",
       "    </tr>\n",
       "    <tr>\n",
       "      <th>5</th>\n",
       "      <td>5</td>\n",
       "      <td>alcohol</td>\n",
       "    </tr>\n",
       "    <tr>\n",
       "      <th>6</th>\n",
       "      <td>6</td>\n",
       "      <td>international</td>\n",
       "    </tr>\n",
       "    <tr>\n",
       "      <th>7</th>\n",
       "      <td>7</td>\n",
       "      <td>beverages</td>\n",
       "    </tr>\n",
       "    <tr>\n",
       "      <th>8</th>\n",
       "      <td>8</td>\n",
       "      <td>pets</td>\n",
       "    </tr>\n",
       "    <tr>\n",
       "      <th>9</th>\n",
       "      <td>9</td>\n",
       "      <td>dry goods pasta</td>\n",
       "    </tr>\n",
       "    <tr>\n",
       "      <th>10</th>\n",
       "      <td>10</td>\n",
       "      <td>bulk</td>\n",
       "    </tr>\n",
       "    <tr>\n",
       "      <th>11</th>\n",
       "      <td>11</td>\n",
       "      <td>personal care</td>\n",
       "    </tr>\n",
       "    <tr>\n",
       "      <th>12</th>\n",
       "      <td>12</td>\n",
       "      <td>meat seafood</td>\n",
       "    </tr>\n",
       "    <tr>\n",
       "      <th>13</th>\n",
       "      <td>13</td>\n",
       "      <td>pantry</td>\n",
       "    </tr>\n",
       "    <tr>\n",
       "      <th>14</th>\n",
       "      <td>14</td>\n",
       "      <td>breakfast</td>\n",
       "    </tr>\n",
       "    <tr>\n",
       "      <th>15</th>\n",
       "      <td>15</td>\n",
       "      <td>canned goods</td>\n",
       "    </tr>\n",
       "    <tr>\n",
       "      <th>16</th>\n",
       "      <td>16</td>\n",
       "      <td>dairy eggs</td>\n",
       "    </tr>\n",
       "    <tr>\n",
       "      <th>17</th>\n",
       "      <td>17</td>\n",
       "      <td>household</td>\n",
       "    </tr>\n",
       "    <tr>\n",
       "      <th>18</th>\n",
       "      <td>18</td>\n",
       "      <td>babies</td>\n",
       "    </tr>\n",
       "    <tr>\n",
       "      <th>19</th>\n",
       "      <td>19</td>\n",
       "      <td>snacks</td>\n",
       "    </tr>\n",
       "    <tr>\n",
       "      <th>20</th>\n",
       "      <td>20</td>\n",
       "      <td>deli</td>\n",
       "    </tr>\n",
       "    <tr>\n",
       "      <th>21</th>\n",
       "      <td>21</td>\n",
       "      <td>missing</td>\n",
       "    </tr>\n",
       "  </tbody>\n",
       "</table>\n",
       "</div>"
      ],
      "text/plain": [
       "0  department_id       department\n",
       "1              1           frozen\n",
       "2              2            other\n",
       "3              3           bakery\n",
       "4              4          produce\n",
       "5              5          alcohol\n",
       "6              6    international\n",
       "7              7        beverages\n",
       "8              8             pets\n",
       "9              9  dry goods pasta\n",
       "10            10             bulk\n",
       "11            11    personal care\n",
       "12            12     meat seafood\n",
       "13            13           pantry\n",
       "14            14        breakfast\n",
       "15            15     canned goods\n",
       "16            16       dairy eggs\n",
       "17            17        household\n",
       "18            18           babies\n",
       "19            19           snacks\n",
       "20            20             deli\n",
       "21            21          missing"
      ]
     },
     "execution_count": 56,
     "metadata": {},
     "output_type": "execute_result"
    }
   ],
   "source": [
    "df_dep_t_new"
   ]
  },
  {
   "cell_type": "code",
   "execution_count": 57,
   "id": "db76d042",
   "metadata": {},
   "outputs": [
    {
     "data": {
      "text/plain": [
       "4     9079273\n",
       "16    5177182\n",
       "19    2766406\n",
       "7     2571901\n",
       "1     2121731\n",
       "13    1782705\n",
       "3     1120828\n",
       "15    1012074\n",
       "20    1003834\n",
       "9      822136\n",
       "17     699857\n",
       "12     674781\n",
       "14     670850\n",
       "11     424306\n",
       "18     410392\n",
       "6      255991\n",
       "5      144627\n",
       "8       93060\n",
       "21      64768\n",
       "2       34411\n",
       "10      33451\n",
       "Name: department_id, dtype: int64"
      ]
     },
     "execution_count": 57,
     "metadata": {},
     "output_type": "execute_result"
    }
   ],
   "source": [
    "ords_prods_custs_merge_drop['department_id'].value_counts(dropna = False)"
   ]
  },
  {
   "cell_type": "code",
   "execution_count": 58,
   "id": "2cbbb36d",
   "metadata": {},
   "outputs": [],
   "source": [
    "df_dep_t_new.to_pickle(os.path.join(path, '02 Data','Prepared Data for storing any manipulated data sets', 'df_dep_t_new.pkl'))"
   ]
  },
  {
   "cell_type": "code",
   "execution_count": 59,
   "id": "5fa32ff4",
   "metadata": {},
   "outputs": [],
   "source": [
    "department_id = 'department'"
   ]
  },
  {
   "cell_type": "markdown",
   "id": "e5f01b03",
   "metadata": {},
   "source": [
    "#\n",
    "The department_id has been profiled already"
   ]
  },
  {
   "cell_type": "markdown",
   "id": "8733d412",
   "metadata": {},
   "source": [
    "# 6.\n",
    "Create an appropriate visualization to show the distribution of profiles"
   ]
  },
  {
   "cell_type": "code",
   "execution_count": 60,
   "id": "9643ee50",
   "metadata": {},
   "outputs": [],
   "source": [
    "# reducing your samples to only 'Age_flag','Income_flag','department_id','Familystatus_flag'\n",
    "\n",
    "ords_prods_custs_merge_profile = ords_prods_custs_merge_drop[['Age_flag','Income_flag','department_id','Familystatus_flag']]"
   ]
  },
  {
   "cell_type": "code",
   "execution_count": 61,
   "id": "0098b7b7",
   "metadata": {},
   "outputs": [
    {
     "data": {
      "text/plain": [
       "<AxesSubplot:>"
      ]
     },
     "execution_count": 61,
     "metadata": {},
     "output_type": "execute_result"
    },
    {
     "data": {
      "image/png": "[encoded data removed]",
      "text/plain": [
       "<Figure size 640x480 with 1 Axes>"
      ]
     },
     "metadata": {},
     "output_type": "display_data"
    }
   ],
   "source": [
    "# Create bar chart for Age_flag\n",
    "\n",
    "ords_prods_custs_merge_profile['Age_flag'].value_counts().plot.bar()"
   ]
  },
  {
   "cell_type": "code",
   "execution_count": 62,
   "id": "dd13a837",
   "metadata": {},
   "outputs": [
    {
     "data": {
      "image/png": "[encoded data removed]",
      "text/plain": [
       "<Figure size 640x480 with 1 Axes>"
      ]
     },
     "metadata": {},
     "output_type": "display_data"
    }
   ],
   "source": [
    "# To save the bar chart for Age_flag\n",
    "bar_Age_flag = ords_prods_custs_merge_profile['Age_flag'].value_counts().sort_index().plot.bar()"
   ]
  },
  {
   "cell_type": "code",
   "execution_count": 63,
   "id": "48f34e02",
   "metadata": {},
   "outputs": [],
   "source": [
    "# To export bar_Age_flag of Jupyter in the form of an image file\n",
    "\n",
    "bar_Age_flag.figure.savefig(os.path.join(path, '04 Analysis','Visualizations', 'bar_Age_flag.png'))"
   ]
  },
  {
   "cell_type": "code",
   "execution_count": 64,
   "id": "439cc0ae",
   "metadata": {},
   "outputs": [
    {
     "data": {
      "text/plain": [
       "<AxesSubplot:>"
      ]
     },
     "execution_count": 64,
     "metadata": {},
     "output_type": "execute_result"
    },
    {
     "data": {
      "image/png": "[encoded data removed]",
      "text/plain": [
       "<Figure size 640x480 with 1 Axes>"
      ]
     },
     "metadata": {},
     "output_type": "display_data"
    }
   ],
   "source": [
    "# Create bar chart for Income_flag\n",
    "\n",
    "ords_prods_custs_merge_profile['Income_flag'].value_counts().plot.bar()"
   ]
  },
  {
   "cell_type": "code",
   "execution_count": 65,
   "id": "8d54cbb8",
   "metadata": {},
   "outputs": [
    {
     "data": {
      "image/png": "[encoded data removed]",
      "text/plain": [
       "<Figure size 640x480 with 1 Axes>"
      ]
     },
     "metadata": {},
     "output_type": "display_data"
    }
   ],
   "source": [
    "# To save the bar chart for Income_flag\n",
    "\n",
    "bar_Income_flag = ords_prods_custs_merge_profile['Income_flag'].value_counts().sort_index().plot.bar()"
   ]
  },
  {
   "cell_type": "code",
   "execution_count": 66,
   "id": "9feb0f76",
   "metadata": {},
   "outputs": [],
   "source": [
    "# To export bar_Income_flag of Jupyter in the form of an image file\n",
    "\n",
    "bar_Income_flag.figure.savefig(os.path.join(path, '04 Analysis','Visualizations', 'bar_Income_flag.png'))"
   ]
  },
  {
   "cell_type": "code",
   "execution_count": 67,
   "id": "d424671f",
   "metadata": {},
   "outputs": [
    {
     "data": {
      "text/plain": [
       "<AxesSubplot:>"
      ]
     },
     "execution_count": 67,
     "metadata": {},
     "output_type": "execute_result"
    },
    {
     "data": {
      "image/png": "[encoded data removed]",
      "text/plain": [
       "<Figure size 640x480 with 1 Axes>"
      ]
     },
     "metadata": {},
     "output_type": "display_data"
    }
   ],
   "source": [
    "# Create bar chart for Familystatus_flag\n",
    "\n",
    "ords_prods_custs_merge_profile['Familystatus_flag'].value_counts().plot.bar()"
   ]
  },
  {
   "cell_type": "code",
   "execution_count": 68,
   "id": "ffe61947",
   "metadata": {},
   "outputs": [
    {
     "data": {
      "image/png": "[encoded data removed]",
      "text/plain": [
       "<Figure size 640x480 with 1 Axes>"
      ]
     },
     "metadata": {},
     "output_type": "display_data"
    }
   ],
   "source": [
    "# To save the bar chart for Familystatus_flag\n",
    "\n",
    "bar_Familystatus_flag = ords_prods_custs_merge_profile['Familystatus_flag'].value_counts().sort_index().plot.bar()"
   ]
  },
  {
   "cell_type": "code",
   "execution_count": 69,
   "id": "34a38b53",
   "metadata": {},
   "outputs": [],
   "source": [
    "# To export bar_Familystatus_flag of Jupyter in the form of an image file\n",
    "\n",
    "bar_Familystatus_flag.figure.savefig(os.path.join(path, '04 Analysis','Visualizations', 'bar_Familystatus_flag.png'))"
   ]
  },
  {
   "cell_type": "code",
   "execution_count": 70,
   "id": "48921608",
   "metadata": {},
   "outputs": [
    {
     "data": {
      "text/plain": [
       "<AxesSubplot:>"
      ]
     },
     "execution_count": 70,
     "metadata": {},
     "output_type": "execute_result"
    },
    {
     "data": {
      "image/png": "[encoded data removed]",
      "text/plain": [
       "<Figure size 640x480 with 1 Axes>"
      ]
     },
     "metadata": {},
     "output_type": "display_data"
    }
   ],
   "source": [
    "# Create bar chart for department_id_flag\n",
    "\n",
    "ords_prods_custs_merge_profile['department_id'].value_counts().sort_index().plot.bar()"
   ]
  },
  {
   "cell_type": "code",
   "execution_count": 71,
   "id": "35b86d6f",
   "metadata": {},
   "outputs": [
    {
     "data": {
      "image/png": "[encoded data removed]",
      "text/plain": [
       "<Figure size 640x480 with 1 Axes>"
      ]
     },
     "metadata": {},
     "output_type": "display_data"
    }
   ],
   "source": [
    "# To save the bar chart for department_id_flag\n",
    "\n",
    "bar_department_id_flag = ords_prods_custs_merge_profile['department_id'].value_counts().sort_index().plot.bar()"
   ]
  },
  {
   "cell_type": "code",
   "execution_count": 72,
   "id": "516f15c8",
   "metadata": {},
   "outputs": [],
   "source": [
    "# To export bar_department_id_flag of Jupyter in the form of an image file\n",
    "\n",
    "bar_department_id_flag.figure.savefig(os.path.join(path, '04 Analysis','Visualizations', 'bar_department_id_flag.png'))"
   ]
  },
  {
   "cell_type": "markdown",
   "id": "77b4ff99",
   "metadata": {},
   "source": [
    "# 7.\n",
    "Aggregate the max, mean, and min variables on a customer-profile level for usage frequency and expenditure."
   ]
  },
  {
   "cell_type": "code",
   "execution_count": 73,
   "id": "fa15b2cd",
   "metadata": {},
   "outputs": [],
   "source": [
    "# create days column with name for customer-profile\n",
    "\n",
    "ords_prods_custs_merge_drop.loc[ords_prods_custs_merge_drop['orders_day_of_week'] == 0, 'Day_of_week'] = 'Saturday'"
   ]
  },
  {
   "cell_type": "code",
   "execution_count": 74,
   "id": "564077a7",
   "metadata": {},
   "outputs": [],
   "source": [
    "ords_prods_custs_merge_drop.loc[ords_prods_custs_merge_drop['orders_day_of_week'] == 1, 'Day_of_week'] = 'Sunday'"
   ]
  },
  {
   "cell_type": "code",
   "execution_count": 75,
   "id": "4aa2fbe8",
   "metadata": {},
   "outputs": [],
   "source": [
    "ords_prods_custs_merge_drop.loc[ords_prods_custs_merge_drop['orders_day_of_week'] == 2, 'Day_of_week'] = 'Monday'"
   ]
  },
  {
   "cell_type": "code",
   "execution_count": 76,
   "id": "97f8bff9",
   "metadata": {},
   "outputs": [],
   "source": [
    "ords_prods_custs_merge_drop.loc[ords_prods_custs_merge_drop['orders_day_of_week'] == 3, 'Day_of_week'] = 'Tuesday'"
   ]
  },
  {
   "cell_type": "code",
   "execution_count": 77,
   "id": "bcc83d6a",
   "metadata": {},
   "outputs": [],
   "source": [
    "ords_prods_custs_merge_drop.loc[ords_prods_custs_merge_drop['orders_day_of_week'] == 4, 'Day_of_week'] = 'Wednesday'"
   ]
  },
  {
   "cell_type": "code",
   "execution_count": 78,
   "id": "9e71fd62",
   "metadata": {},
   "outputs": [],
   "source": [
    "ords_prods_custs_merge_drop.loc[ords_prods_custs_merge_drop['orders_day_of_week'] == 5, 'Day_of_week'] = 'Thursday'"
   ]
  },
  {
   "cell_type": "code",
   "execution_count": 79,
   "id": "21e4c4c9",
   "metadata": {},
   "outputs": [],
   "source": [
    "ords_prods_custs_merge_drop.loc[ords_prods_custs_merge_drop['orders_day_of_week'] == 6, 'Day_of_week'] = 'Friday'"
   ]
  },
  {
   "cell_type": "code",
   "execution_count": 80,
   "id": "228dcd8e",
   "metadata": {},
   "outputs": [
    {
     "data": {
      "text/plain": [
       "Saturday     5908610\n",
       "Sunday       5411686\n",
       "Friday       4291304\n",
       "Thursday     4033729\n",
       "Monday       4024706\n",
       "Tuesday      3669535\n",
       "Wednesday    3624994\n",
       "Name: Day_of_week, dtype: int64"
      ]
     },
     "execution_count": 80,
     "metadata": {},
     "output_type": "execute_result"
    }
   ],
   "source": [
    "#  Check value counts of Day_of_week\n",
    "\n",
    "ords_prods_custs_merge_drop['Day_of_week'].value_counts(dropna = False)"
   ]
  },
  {
   "cell_type": "markdown",
   "id": "ff788844",
   "metadata": {},
   "source": [
    "#\n",
    "Saturday has the highest orders for the week"
   ]
  },
  {
   "cell_type": "code",
   "execution_count": 81,
   "id": "86321e37",
   "metadata": {
    "scrolled": false
   },
   "outputs": [
    {
     "data": {
      "image/png": "[encoded data removed]",
      "text/plain": [
       "<Figure size 1000x500 with 1 Axes>"
      ]
     },
     "metadata": {},
     "output_type": "display_data"
    }
   ],
   "source": [
    "Create a bar chart\n",
    "\n",
    "bar_Day_of_week = ords_prods_custs_merge_drop['Day_of_week'].value_counts().sort_index().plot.bar(figsize = (10,5)) ,plt.xlabel(\"Day_of_week\") ,plt.ylabel(\"orders in millions\") , plt.title (\"Instacart orders by Day_of_week\")\n",
    "     "
   ]
  },
  {
   "cell_type": "code",
   "execution_count": 82,
   "id": "93c423b7",
   "metadata": {},
   "outputs": [
    {
     "data": {
      "image/png": "[encoded data removed]",
      "text/plain": [
       "<Figure size 640x480 with 1 Axes>"
      ]
     },
     "metadata": {},
     "output_type": "display_data"
    }
   ],
   "source": [
    "# To save the bar chart for Day_of_week\n",
    "\n",
    "bar_Day_of_week = ords_prods_custs_merge_drop['Day_of_week'].value_counts().sort_index().plot.bar() ,plt.xlabel(\"Day_of_week\") ,plt.ylabel(\"orders in millions\") , plt.title (\"Instacart orders by Day_of_week\")"
   ]
  },
  {
   "cell_type": "code",
   "execution_count": 83,
   "id": "e5034fe4",
   "metadata": {
    "scrolled": true
   },
   "outputs": [],
   "source": [
    "# To export bar_Day_of_week of Jupyter in the form of an image file\n",
    "\n"
   ]
  },
  {
   "cell_type": "markdown",
   "id": "1e6b5508",
   "metadata": {},
   "source": [
    "# USAGE FREQUENCY"
   ]
  },
  {
   "cell_type": "code",
   "execution_count": 84,
   "id": "5f6cd1f3",
   "metadata": {
    "scrolled": true
   },
   "outputs": [
    {
     "data": {
      "text/html": [
       "<div>\n",
       "<style scoped>\n",
       "    .dataframe tbody tr th:only-of-type {\n",
       "        vertical-align: middle;\n",
       "    }\n",
       "\n",
       "    .dataframe tbody tr th {\n",
       "        vertical-align: top;\n",
       "    }\n",
       "\n",
       "    .dataframe thead tr th {\n",
       "        text-align: left;\n",
       "    }\n",
       "\n",
       "    .dataframe thead tr:last-of-type th {\n",
       "        text-align: right;\n",
       "    }\n",
       "</style>\n",
       "<table border=\"1\" class=\"dataframe\">\n",
       "  <thead>\n",
       "    <tr>\n",
       "      <th></th>\n",
       "      <th colspan=\"3\" halign=\"left\">days_since_prior_order</th>\n",
       "    </tr>\n",
       "    <tr>\n",
       "      <th></th>\n",
       "      <th>mean</th>\n",
       "      <th>min</th>\n",
       "      <th>max</th>\n",
       "    </tr>\n",
       "    <tr>\n",
       "      <th>loyalty_flag</th>\n",
       "      <th></th>\n",
       "      <th></th>\n",
       "      <th></th>\n",
       "    </tr>\n",
       "  </thead>\n",
       "  <tbody>\n",
       "    <tr>\n",
       "      <th>Loyal customer</th>\n",
       "      <td>5.936463</td>\n",
       "      <td>0.0</td>\n",
       "      <td>30.0</td>\n",
       "    </tr>\n",
       "    <tr>\n",
       "      <th>New customer</th>\n",
       "      <td>15.273428</td>\n",
       "      <td>0.0</td>\n",
       "      <td>30.0</td>\n",
       "    </tr>\n",
       "    <tr>\n",
       "      <th>Regular customer</th>\n",
       "      <td>11.602086</td>\n",
       "      <td>0.0</td>\n",
       "      <td>30.0</td>\n",
       "    </tr>\n",
       "  </tbody>\n",
       "</table>\n",
       "</div>"
      ],
      "text/plain": [
       "                 days_since_prior_order           \n",
       "                                   mean  min   max\n",
       "loyalty_flag                                      \n",
       "Loyal customer                 5.936463  0.0  30.0\n",
       "New customer                  15.273428  0.0  30.0\n",
       "Regular customer              11.602086  0.0  30.0"
      ]
     },
     "execution_count": 84,
     "metadata": {},
     "output_type": "execute_result"
    }
   ],
   "source": [
    "# Usage frequency aggregation of loyalty_flag profile \n",
    "\n",
    "ords_prods_custs_merge_drop.groupby('loyalty_flag').agg({'days_since_prior_order':['mean', 'min', 'max']})"
   ]
  },
  {
   "cell_type": "code",
   "execution_count": 85,
   "id": "ffe8a935",
   "metadata": {},
   "outputs": [
    {
     "data": {
      "text/html": [
       "<div>\n",
       "<style scoped>\n",
       "    .dataframe tbody tr th:only-of-type {\n",
       "        vertical-align: middle;\n",
       "    }\n",
       "\n",
       "    .dataframe tbody tr th {\n",
       "        vertical-align: top;\n",
       "    }\n",
       "\n",
       "    .dataframe thead tr th {\n",
       "        text-align: left;\n",
       "    }\n",
       "\n",
       "    .dataframe thead tr:last-of-type th {\n",
       "        text-align: right;\n",
       "    }\n",
       "</style>\n",
       "<table border=\"1\" class=\"dataframe\">\n",
       "  <thead>\n",
       "    <tr>\n",
       "      <th></th>\n",
       "      <th colspan=\"3\" halign=\"left\">add_to_cart_order</th>\n",
       "    </tr>\n",
       "    <tr>\n",
       "      <th></th>\n",
       "      <th>mean</th>\n",
       "      <th>min</th>\n",
       "      <th>max</th>\n",
       "    </tr>\n",
       "    <tr>\n",
       "      <th>loyalty_flag</th>\n",
       "      <th></th>\n",
       "      <th></th>\n",
       "      <th></th>\n",
       "    </tr>\n",
       "  </thead>\n",
       "  <tbody>\n",
       "    <tr>\n",
       "      <th>Loyal customer</th>\n",
       "      <td>8.284024</td>\n",
       "      <td>1</td>\n",
       "      <td>137</td>\n",
       "    </tr>\n",
       "    <tr>\n",
       "      <th>New customer</th>\n",
       "      <td>8.311567</td>\n",
       "      <td>1</td>\n",
       "      <td>102</td>\n",
       "    </tr>\n",
       "    <tr>\n",
       "      <th>Regular customer</th>\n",
       "      <td>8.429793</td>\n",
       "      <td>1</td>\n",
       "      <td>145</td>\n",
       "    </tr>\n",
       "  </tbody>\n",
       "</table>\n",
       "</div>"
      ],
      "text/plain": [
       "                 add_to_cart_order         \n",
       "                              mean min  max\n",
       "loyalty_flag                               \n",
       "Loyal customer            8.284024   1  137\n",
       "New customer              8.311567   1  102\n",
       "Regular customer          8.429793   1  145"
      ]
     },
     "execution_count": 85,
     "metadata": {},
     "output_type": "execute_result"
    }
   ],
   "source": [
    "# Usage frequency aggregation of loyalty_flag profile \n",
    "\n",
    "ords_prods_custs_merge_drop.groupby('loyalty_flag').agg({'add_to_cart_order':['mean', 'min', 'max']})"
   ]
  },
  {
   "cell_type": "code",
   "execution_count": 86,
   "id": "58708881",
   "metadata": {},
   "outputs": [
    {
     "data": {
      "text/html": [
       "<div>\n",
       "<style scoped>\n",
       "    .dataframe tbody tr th:only-of-type {\n",
       "        vertical-align: middle;\n",
       "    }\n",
       "\n",
       "    .dataframe tbody tr th {\n",
       "        vertical-align: top;\n",
       "    }\n",
       "\n",
       "    .dataframe thead tr th {\n",
       "        text-align: left;\n",
       "    }\n",
       "\n",
       "    .dataframe thead tr:last-of-type th {\n",
       "        text-align: right;\n",
       "    }\n",
       "</style>\n",
       "<table border=\"1\" class=\"dataframe\">\n",
       "  <thead>\n",
       "    <tr>\n",
       "      <th></th>\n",
       "      <th colspan=\"3\" halign=\"left\">days_since_prior_order</th>\n",
       "    </tr>\n",
       "    <tr>\n",
       "      <th></th>\n",
       "      <th>mean</th>\n",
       "      <th>min</th>\n",
       "      <th>max</th>\n",
       "    </tr>\n",
       "    <tr>\n",
       "      <th>Age_flag</th>\n",
       "      <th></th>\n",
       "      <th></th>\n",
       "      <th></th>\n",
       "    </tr>\n",
       "  </thead>\n",
       "  <tbody>\n",
       "    <tr>\n",
       "      <th>Middle_adult</th>\n",
       "      <td>10.298109</td>\n",
       "      <td>0.0</td>\n",
       "      <td>30.0</td>\n",
       "    </tr>\n",
       "    <tr>\n",
       "      <th>Old_adult</th>\n",
       "      <td>10.274889</td>\n",
       "      <td>0.0</td>\n",
       "      <td>30.0</td>\n",
       "    </tr>\n",
       "    <tr>\n",
       "      <th>Young_adult</th>\n",
       "      <td>10.292714</td>\n",
       "      <td>0.0</td>\n",
       "      <td>30.0</td>\n",
       "    </tr>\n",
       "  </tbody>\n",
       "</table>\n",
       "</div>"
      ],
      "text/plain": [
       "             days_since_prior_order           \n",
       "                               mean  min   max\n",
       "Age_flag                                      \n",
       "Middle_adult              10.298109  0.0  30.0\n",
       "Old_adult                 10.274889  0.0  30.0\n",
       "Young_adult               10.292714  0.0  30.0"
      ]
     },
     "execution_count": 86,
     "metadata": {},
     "output_type": "execute_result"
    }
   ],
   "source": [
    "# Usage frequency aggregation of Age profile \n",
    "\n",
    "ords_prods_custs_merge_drop.groupby('Age_flag').agg({'days_since_prior_order':['mean', 'min', 'max']})"
   ]
  },
  {
   "cell_type": "code",
   "execution_count": 87,
   "id": "71d3b265",
   "metadata": {},
   "outputs": [
    {
     "data": {
      "text/html": [
       "<div>\n",
       "<style scoped>\n",
       "    .dataframe tbody tr th:only-of-type {\n",
       "        vertical-align: middle;\n",
       "    }\n",
       "\n",
       "    .dataframe tbody tr th {\n",
       "        vertical-align: top;\n",
       "    }\n",
       "\n",
       "    .dataframe thead tr th {\n",
       "        text-align: left;\n",
       "    }\n",
       "\n",
       "    .dataframe thead tr:last-of-type th {\n",
       "        text-align: right;\n",
       "    }\n",
       "</style>\n",
       "<table border=\"1\" class=\"dataframe\">\n",
       "  <thead>\n",
       "    <tr>\n",
       "      <th></th>\n",
       "      <th colspan=\"3\" halign=\"left\">days_since_prior_order</th>\n",
       "    </tr>\n",
       "    <tr>\n",
       "      <th></th>\n",
       "      <th>mean</th>\n",
       "      <th>min</th>\n",
       "      <th>max</th>\n",
       "    </tr>\n",
       "    <tr>\n",
       "      <th>Income_flag</th>\n",
       "      <th></th>\n",
       "      <th></th>\n",
       "      <th></th>\n",
       "    </tr>\n",
       "  </thead>\n",
       "  <tbody>\n",
       "    <tr>\n",
       "      <th>High income</th>\n",
       "      <td>10.255614</td>\n",
       "      <td>0.0</td>\n",
       "      <td>30.0</td>\n",
       "    </tr>\n",
       "    <tr>\n",
       "      <th>Low income</th>\n",
       "      <td>10.593140</td>\n",
       "      <td>0.0</td>\n",
       "      <td>30.0</td>\n",
       "    </tr>\n",
       "    <tr>\n",
       "      <th>Middle income</th>\n",
       "      <td>10.250253</td>\n",
       "      <td>0.0</td>\n",
       "      <td>30.0</td>\n",
       "    </tr>\n",
       "  </tbody>\n",
       "</table>\n",
       "</div>"
      ],
      "text/plain": [
       "              days_since_prior_order           \n",
       "                                mean  min   max\n",
       "Income_flag                                    \n",
       "High income                10.255614  0.0  30.0\n",
       "Low income                 10.593140  0.0  30.0\n",
       "Middle income              10.250253  0.0  30.0"
      ]
     },
     "execution_count": 87,
     "metadata": {},
     "output_type": "execute_result"
    }
   ],
   "source": [
    "# Usage frequency aggregation of Income profile \n",
    "\n",
    "ords_prods_custs_merge_drop.groupby('Income_flag').agg({'days_since_prior_order':['mean', 'min', 'max']})"
   ]
  },
  {
   "cell_type": "code",
   "execution_count": 88,
   "id": "a81d2620",
   "metadata": {},
   "outputs": [
    {
     "data": {
      "text/html": [
       "<div>\n",
       "<style scoped>\n",
       "    .dataframe tbody tr th:only-of-type {\n",
       "        vertical-align: middle;\n",
       "    }\n",
       "\n",
       "    .dataframe tbody tr th {\n",
       "        vertical-align: top;\n",
       "    }\n",
       "\n",
       "    .dataframe thead tr th {\n",
       "        text-align: left;\n",
       "    }\n",
       "\n",
       "    .dataframe thead tr:last-of-type th {\n",
       "        text-align: right;\n",
       "    }\n",
       "</style>\n",
       "<table border=\"1\" class=\"dataframe\">\n",
       "  <thead>\n",
       "    <tr>\n",
       "      <th></th>\n",
       "      <th colspan=\"3\" halign=\"left\">days_since_prior_order</th>\n",
       "    </tr>\n",
       "    <tr>\n",
       "      <th></th>\n",
       "      <th>mean</th>\n",
       "      <th>min</th>\n",
       "      <th>max</th>\n",
       "    </tr>\n",
       "    <tr>\n",
       "      <th>Familystatus_flag</th>\n",
       "      <th></th>\n",
       "      <th></th>\n",
       "      <th></th>\n",
       "    </tr>\n",
       "  </thead>\n",
       "  <tbody>\n",
       "    <tr>\n",
       "      <th>Family with dependant</th>\n",
       "      <td>10.295548</td>\n",
       "      <td>0.0</td>\n",
       "      <td>30.0</td>\n",
       "    </tr>\n",
       "    <tr>\n",
       "      <th>Single</th>\n",
       "      <td>10.273144</td>\n",
       "      <td>0.0</td>\n",
       "      <td>30.0</td>\n",
       "    </tr>\n",
       "  </tbody>\n",
       "</table>\n",
       "</div>"
      ],
      "text/plain": [
       "                       days_since_prior_order           \n",
       "                                         mean  min   max\n",
       "Familystatus_flag                                       \n",
       "Family with dependant               10.295548  0.0  30.0\n",
       "Single                              10.273144  0.0  30.0"
      ]
     },
     "execution_count": 88,
     "metadata": {},
     "output_type": "execute_result"
    }
   ],
   "source": [
    "# Usage frequency aggregation of Familystatus profile \n",
    "\n",
    "ords_prods_custs_merge_drop.groupby('Familystatus_flag').agg({'days_since_prior_order':['mean', 'min', 'max']})"
   ]
  },
  {
   "cell_type": "code",
   "execution_count": 89,
   "id": "20ac2c90",
   "metadata": {},
   "outputs": [
    {
     "data": {
      "text/html": [
       "<div>\n",
       "<style scoped>\n",
       "    .dataframe tbody tr th:only-of-type {\n",
       "        vertical-align: middle;\n",
       "    }\n",
       "\n",
       "    .dataframe tbody tr th {\n",
       "        vertical-align: top;\n",
       "    }\n",
       "\n",
       "    .dataframe thead tr th {\n",
       "        text-align: left;\n",
       "    }\n",
       "\n",
       "    .dataframe thead tr:last-of-type th {\n",
       "        text-align: right;\n",
       "    }\n",
       "</style>\n",
       "<table border=\"1\" class=\"dataframe\">\n",
       "  <thead>\n",
       "    <tr>\n",
       "      <th></th>\n",
       "      <th colspan=\"3\" halign=\"left\">days_since_prior_order</th>\n",
       "    </tr>\n",
       "    <tr>\n",
       "      <th></th>\n",
       "      <th>mean</th>\n",
       "      <th>min</th>\n",
       "      <th>max</th>\n",
       "    </tr>\n",
       "    <tr>\n",
       "      <th>Gender</th>\n",
       "      <th></th>\n",
       "      <th></th>\n",
       "      <th></th>\n",
       "    </tr>\n",
       "  </thead>\n",
       "  <tbody>\n",
       "    <tr>\n",
       "      <th>Female</th>\n",
       "      <td>10.275299</td>\n",
       "      <td>0.0</td>\n",
       "      <td>30.0</td>\n",
       "    </tr>\n",
       "    <tr>\n",
       "      <th>Male</th>\n",
       "      <td>10.304401</td>\n",
       "      <td>0.0</td>\n",
       "      <td>30.0</td>\n",
       "    </tr>\n",
       "  </tbody>\n",
       "</table>\n",
       "</div>"
      ],
      "text/plain": [
       "       days_since_prior_order           \n",
       "                         mean  min   max\n",
       "Gender                                  \n",
       "Female              10.275299  0.0  30.0\n",
       "Male                10.304401  0.0  30.0"
      ]
     },
     "execution_count": 89,
     "metadata": {},
     "output_type": "execute_result"
    }
   ],
   "source": [
    "# Usage frequency aggregation of Gender status profile\n",
    "\n",
    "ords_prods_custs_merge_drop.groupby('Gender').agg({'days_since_prior_order':['mean', 'min', 'max']})"
   ]
  },
  {
   "cell_type": "code",
   "execution_count": 90,
   "id": "00e00f6e",
   "metadata": {},
   "outputs": [
    {
     "data": {
      "text/html": [
       "<div>\n",
       "<style scoped>\n",
       "    .dataframe tbody tr th:only-of-type {\n",
       "        vertical-align: middle;\n",
       "    }\n",
       "\n",
       "    .dataframe tbody tr th {\n",
       "        vertical-align: top;\n",
       "    }\n",
       "\n",
       "    .dataframe thead tr th {\n",
       "        text-align: left;\n",
       "    }\n",
       "\n",
       "    .dataframe thead tr:last-of-type th {\n",
       "        text-align: right;\n",
       "    }\n",
       "</style>\n",
       "<table border=\"1\" class=\"dataframe\">\n",
       "  <thead>\n",
       "    <tr>\n",
       "      <th></th>\n",
       "      <th colspan=\"3\" halign=\"left\">days_since_prior_order</th>\n",
       "    </tr>\n",
       "    <tr>\n",
       "      <th></th>\n",
       "      <th>mean</th>\n",
       "      <th>min</th>\n",
       "      <th>max</th>\n",
       "    </tr>\n",
       "    <tr>\n",
       "      <th>Region</th>\n",
       "      <th></th>\n",
       "      <th></th>\n",
       "      <th></th>\n",
       "    </tr>\n",
       "  </thead>\n",
       "  <tbody>\n",
       "    <tr>\n",
       "      <th>Northeast</th>\n",
       "      <td>10.258213</td>\n",
       "      <td>0.0</td>\n",
       "      <td>30.0</td>\n",
       "    </tr>\n",
       "    <tr>\n",
       "      <th>Northwest</th>\n",
       "      <td>10.363238</td>\n",
       "      <td>0.0</td>\n",
       "      <td>30.0</td>\n",
       "    </tr>\n",
       "    <tr>\n",
       "      <th>South</th>\n",
       "      <td>10.292664</td>\n",
       "      <td>0.0</td>\n",
       "      <td>30.0</td>\n",
       "    </tr>\n",
       "    <tr>\n",
       "      <th>West</th>\n",
       "      <td>10.241156</td>\n",
       "      <td>0.0</td>\n",
       "      <td>30.0</td>\n",
       "    </tr>\n",
       "  </tbody>\n",
       "</table>\n",
       "</div>"
      ],
      "text/plain": [
       "          days_since_prior_order           \n",
       "                            mean  min   max\n",
       "Region                                     \n",
       "Northeast              10.258213  0.0  30.0\n",
       "Northwest              10.363238  0.0  30.0\n",
       "South                  10.292664  0.0  30.0\n",
       "West                   10.241156  0.0  30.0"
      ]
     },
     "execution_count": 90,
     "metadata": {},
     "output_type": "execute_result"
    }
   ],
   "source": [
    "# Usage frequency aggregation of Region status profile\n",
    "\n",
    "ords_prods_custs_merge_drop.groupby('Region').agg({'days_since_prior_order':['mean', 'min', 'max']})"
   ]
  },
  {
   "cell_type": "markdown",
   "id": "9214174a",
   "metadata": {},
   "source": [
    "# EXPENDITURE"
   ]
  },
  {
   "cell_type": "code",
   "execution_count": 91,
   "id": "dbd2ce01",
   "metadata": {},
   "outputs": [
    {
     "data": {
      "text/html": [
       "<div>\n",
       "<style scoped>\n",
       "    .dataframe tbody tr th:only-of-type {\n",
       "        vertical-align: middle;\n",
       "    }\n",
       "\n",
       "    .dataframe tbody tr th {\n",
       "        vertical-align: top;\n",
       "    }\n",
       "\n",
       "    .dataframe thead tr th {\n",
       "        text-align: left;\n",
       "    }\n",
       "\n",
       "    .dataframe thead tr:last-of-type th {\n",
       "        text-align: right;\n",
       "    }\n",
       "</style>\n",
       "<table border=\"1\" class=\"dataframe\">\n",
       "  <thead>\n",
       "    <tr>\n",
       "      <th></th>\n",
       "      <th colspan=\"3\" halign=\"left\">prices</th>\n",
       "    </tr>\n",
       "    <tr>\n",
       "      <th></th>\n",
       "      <th>mean</th>\n",
       "      <th>min</th>\n",
       "      <th>max</th>\n",
       "    </tr>\n",
       "    <tr>\n",
       "      <th>Age_flag</th>\n",
       "      <th></th>\n",
       "      <th></th>\n",
       "      <th></th>\n",
       "    </tr>\n",
       "  </thead>\n",
       "  <tbody>\n",
       "    <tr>\n",
       "      <th>Middle_adult</th>\n",
       "      <td>7.791559</td>\n",
       "      <td>1.0</td>\n",
       "      <td>25.0</td>\n",
       "    </tr>\n",
       "    <tr>\n",
       "      <th>Old_adult</th>\n",
       "      <td>7.794342</td>\n",
       "      <td>1.0</td>\n",
       "      <td>25.0</td>\n",
       "    </tr>\n",
       "    <tr>\n",
       "      <th>Young_adult</th>\n",
       "      <td>7.787762</td>\n",
       "      <td>1.0</td>\n",
       "      <td>25.0</td>\n",
       "    </tr>\n",
       "  </tbody>\n",
       "</table>\n",
       "</div>"
      ],
      "text/plain": [
       "                prices           \n",
       "                  mean  min   max\n",
       "Age_flag                         \n",
       "Middle_adult  7.791559  1.0  25.0\n",
       "Old_adult     7.794342  1.0  25.0\n",
       "Young_adult   7.787762  1.0  25.0"
      ]
     },
     "execution_count": 91,
     "metadata": {},
     "output_type": "execute_result"
    }
   ],
   "source": [
    "# Expenditure frequency aggregation of Age profile  \n",
    "\n",
    "ords_prods_custs_merge_drop.groupby('Age_flag').agg({'prices':['mean', 'min', 'max']})"
   ]
  },
  {
   "cell_type": "code",
   "execution_count": 92,
   "id": "b19c7603",
   "metadata": {},
   "outputs": [
    {
     "data": {
      "text/html": [
       "<div>\n",
       "<style scoped>\n",
       "    .dataframe tbody tr th:only-of-type {\n",
       "        vertical-align: middle;\n",
       "    }\n",
       "\n",
       "    .dataframe tbody tr th {\n",
       "        vertical-align: top;\n",
       "    }\n",
       "\n",
       "    .dataframe thead tr th {\n",
       "        text-align: left;\n",
       "    }\n",
       "\n",
       "    .dataframe thead tr:last-of-type th {\n",
       "        text-align: right;\n",
       "    }\n",
       "</style>\n",
       "<table border=\"1\" class=\"dataframe\">\n",
       "  <thead>\n",
       "    <tr>\n",
       "      <th></th>\n",
       "      <th colspan=\"3\" halign=\"left\">prices</th>\n",
       "    </tr>\n",
       "    <tr>\n",
       "      <th></th>\n",
       "      <th>mean</th>\n",
       "      <th>min</th>\n",
       "      <th>max</th>\n",
       "    </tr>\n",
       "    <tr>\n",
       "      <th>Income_flag</th>\n",
       "      <th></th>\n",
       "      <th></th>\n",
       "      <th></th>\n",
       "    </tr>\n",
       "  </thead>\n",
       "  <tbody>\n",
       "    <tr>\n",
       "      <th>High income</th>\n",
       "      <td>7.953438</td>\n",
       "      <td>1.0</td>\n",
       "      <td>25.0</td>\n",
       "    </tr>\n",
       "    <tr>\n",
       "      <th>Low income</th>\n",
       "      <td>6.707347</td>\n",
       "      <td>1.0</td>\n",
       "      <td>25.0</td>\n",
       "    </tr>\n",
       "    <tr>\n",
       "      <th>Middle income</th>\n",
       "      <td>7.889856</td>\n",
       "      <td>1.0</td>\n",
       "      <td>25.0</td>\n",
       "    </tr>\n",
       "  </tbody>\n",
       "</table>\n",
       "</div>"
      ],
      "text/plain": [
       "                 prices           \n",
       "                   mean  min   max\n",
       "Income_flag                       \n",
       "High income    7.953438  1.0  25.0\n",
       "Low income     6.707347  1.0  25.0\n",
       "Middle income  7.889856  1.0  25.0"
      ]
     },
     "execution_count": 92,
     "metadata": {},
     "output_type": "execute_result"
    }
   ],
   "source": [
    "# Expenditure frequency aggregation of Income profile \n",
    "\n",
    "ords_prods_custs_merge_drop.groupby('Income_flag').agg({'prices':['mean', 'min', 'max']})"
   ]
  },
  {
   "cell_type": "code",
   "execution_count": 93,
   "id": "712d2639",
   "metadata": {},
   "outputs": [
    {
     "data": {
      "text/html": [
       "<div>\n",
       "<style scoped>\n",
       "    .dataframe tbody tr th:only-of-type {\n",
       "        vertical-align: middle;\n",
       "    }\n",
       "\n",
       "    .dataframe tbody tr th {\n",
       "        vertical-align: top;\n",
       "    }\n",
       "\n",
       "    .dataframe thead tr th {\n",
       "        text-align: left;\n",
       "    }\n",
       "\n",
       "    .dataframe thead tr:last-of-type th {\n",
       "        text-align: right;\n",
       "    }\n",
       "</style>\n",
       "<table border=\"1\" class=\"dataframe\">\n",
       "  <thead>\n",
       "    <tr>\n",
       "      <th></th>\n",
       "      <th colspan=\"3\" halign=\"left\">prices</th>\n",
       "    </tr>\n",
       "    <tr>\n",
       "      <th></th>\n",
       "      <th>mean</th>\n",
       "      <th>min</th>\n",
       "      <th>max</th>\n",
       "    </tr>\n",
       "    <tr>\n",
       "      <th>Familystatus_flag</th>\n",
       "      <th></th>\n",
       "      <th></th>\n",
       "      <th></th>\n",
       "    </tr>\n",
       "  </thead>\n",
       "  <tbody>\n",
       "    <tr>\n",
       "      <th>Family with dependant</th>\n",
       "      <td>7.790937</td>\n",
       "      <td>1.0</td>\n",
       "      <td>25.0</td>\n",
       "    </tr>\n",
       "    <tr>\n",
       "      <th>Single</th>\n",
       "      <td>7.789550</td>\n",
       "      <td>1.0</td>\n",
       "      <td>25.0</td>\n",
       "    </tr>\n",
       "  </tbody>\n",
       "</table>\n",
       "</div>"
      ],
      "text/plain": [
       "                          prices           \n",
       "                            mean  min   max\n",
       "Familystatus_flag                          \n",
       "Family with dependant   7.790937  1.0  25.0\n",
       "Single                  7.789550  1.0  25.0"
      ]
     },
     "execution_count": 93,
     "metadata": {},
     "output_type": "execute_result"
    }
   ],
   "source": [
    "# Expenditure frequency aggregation of Familystatus profile \n",
    "\n",
    "ords_prods_custs_merge_drop.groupby('Familystatus_flag').agg({'prices':['mean', 'min', 'max']})"
   ]
  },
  {
   "cell_type": "code",
   "execution_count": 94,
   "id": "9ac21458",
   "metadata": {},
   "outputs": [
    {
     "data": {
      "text/html": [
       "<div>\n",
       "<style scoped>\n",
       "    .dataframe tbody tr th:only-of-type {\n",
       "        vertical-align: middle;\n",
       "    }\n",
       "\n",
       "    .dataframe tbody tr th {\n",
       "        vertical-align: top;\n",
       "    }\n",
       "\n",
       "    .dataframe thead tr th {\n",
       "        text-align: left;\n",
       "    }\n",
       "\n",
       "    .dataframe thead tr:last-of-type th {\n",
       "        text-align: right;\n",
       "    }\n",
       "</style>\n",
       "<table border=\"1\" class=\"dataframe\">\n",
       "  <thead>\n",
       "    <tr>\n",
       "      <th></th>\n",
       "      <th colspan=\"3\" halign=\"left\">prices</th>\n",
       "    </tr>\n",
       "    <tr>\n",
       "      <th></th>\n",
       "      <th>mean</th>\n",
       "      <th>min</th>\n",
       "      <th>max</th>\n",
       "    </tr>\n",
       "    <tr>\n",
       "      <th>Gender</th>\n",
       "      <th></th>\n",
       "      <th></th>\n",
       "      <th></th>\n",
       "    </tr>\n",
       "  </thead>\n",
       "  <tbody>\n",
       "    <tr>\n",
       "      <th>Female</th>\n",
       "      <td>7.788193</td>\n",
       "      <td>1.0</td>\n",
       "      <td>25.0</td>\n",
       "    </tr>\n",
       "    <tr>\n",
       "      <th>Male</th>\n",
       "      <td>7.792956</td>\n",
       "      <td>1.0</td>\n",
       "      <td>25.0</td>\n",
       "    </tr>\n",
       "  </tbody>\n",
       "</table>\n",
       "</div>"
      ],
      "text/plain": [
       "          prices           \n",
       "            mean  min   max\n",
       "Gender                     \n",
       "Female  7.788193  1.0  25.0\n",
       "Male    7.792956  1.0  25.0"
      ]
     },
     "execution_count": 94,
     "metadata": {},
     "output_type": "execute_result"
    }
   ],
   "source": [
    "# Expenditure frequency aggregation of Gender status  profile \n",
    "\n",
    "ords_prods_custs_merge_drop.groupby('Gender').agg({'prices':['mean', 'min', 'max']})"
   ]
  },
  {
   "cell_type": "code",
   "execution_count": 95,
   "id": "19feb789",
   "metadata": {},
   "outputs": [
    {
     "data": {
      "text/html": [
       "<div>\n",
       "<style scoped>\n",
       "    .dataframe tbody tr th:only-of-type {\n",
       "        vertical-align: middle;\n",
       "    }\n",
       "\n",
       "    .dataframe tbody tr th {\n",
       "        vertical-align: top;\n",
       "    }\n",
       "\n",
       "    .dataframe thead tr th {\n",
       "        text-align: left;\n",
       "    }\n",
       "\n",
       "    .dataframe thead tr:last-of-type th {\n",
       "        text-align: right;\n",
       "    }\n",
       "</style>\n",
       "<table border=\"1\" class=\"dataframe\">\n",
       "  <thead>\n",
       "    <tr>\n",
       "      <th></th>\n",
       "      <th colspan=\"3\" halign=\"left\">prices</th>\n",
       "    </tr>\n",
       "    <tr>\n",
       "      <th></th>\n",
       "      <th>mean</th>\n",
       "      <th>min</th>\n",
       "      <th>max</th>\n",
       "    </tr>\n",
       "    <tr>\n",
       "      <th>Region</th>\n",
       "      <th></th>\n",
       "      <th></th>\n",
       "      <th></th>\n",
       "    </tr>\n",
       "  </thead>\n",
       "  <tbody>\n",
       "    <tr>\n",
       "      <th>Northeast</th>\n",
       "      <td>7.781441</td>\n",
       "      <td>1.0</td>\n",
       "      <td>25.0</td>\n",
       "    </tr>\n",
       "    <tr>\n",
       "      <th>Northwest</th>\n",
       "      <td>7.792318</td>\n",
       "      <td>1.0</td>\n",
       "      <td>25.0</td>\n",
       "    </tr>\n",
       "    <tr>\n",
       "      <th>South</th>\n",
       "      <td>7.794439</td>\n",
       "      <td>1.0</td>\n",
       "      <td>25.0</td>\n",
       "    </tr>\n",
       "    <tr>\n",
       "      <th>West</th>\n",
       "      <td>7.790308</td>\n",
       "      <td>1.0</td>\n",
       "      <td>25.0</td>\n",
       "    </tr>\n",
       "  </tbody>\n",
       "</table>\n",
       "</div>"
      ],
      "text/plain": [
       "             prices           \n",
       "               mean  min   max\n",
       "Region                        \n",
       "Northeast  7.781441  1.0  25.0\n",
       "Northwest  7.792318  1.0  25.0\n",
       "South      7.794439  1.0  25.0\n",
       "West       7.790308  1.0  25.0"
      ]
     },
     "execution_count": 95,
     "metadata": {},
     "output_type": "execute_result"
    }
   ],
   "source": [
    "# Expenditure frequency aggregation of Region status  profile \n",
    "\n",
    "ords_prods_custs_merge_drop.groupby('Region').agg({'prices':['mean', 'min', 'max']})"
   ]
  },
  {
   "cell_type": "markdown",
   "id": "94f069d6",
   "metadata": {},
   "source": [
    "# 8. Compare your customer profiles with regions and departments. Can you identify a link between them? Customers may demonstrate different behaviors across regions, which could make this information important."
   ]
  },
  {
   "cell_type": "code",
   "execution_count": 96,
   "id": "e77aa7a3",
   "metadata": {},
   "outputs": [],
   "source": [
    "# To create a crosstab between the “Gender” column and the “Region” column to establish the relationship and import to EXCEL\n",
    "\n",
    "crosstab_gender_region = pd.crosstab(ords_prods_custs_merge_drop['Gender'], ords_prods_custs_merge_drop['Region'], dropna = False)"
   ]
  },
  {
   "cell_type": "code",
   "execution_count": 97,
   "id": "2d56c352",
   "metadata": {},
   "outputs": [],
   "source": [
    "# To copy the crosstab on clipboard for further copy on the excel\n",
    "\n",
    "crosstab_gender_region.to_clipboard()"
   ]
  },
  {
   "cell_type": "code",
   "execution_count": 98,
   "id": "bccc8617",
   "metadata": {},
   "outputs": [],
   "source": [
    "# To create a crosstab between the “Income_flag” column and the “department_id” column to establish the relationship and import to EXCEL\n",
    "\n",
    "crosstab_income_dept = pd.crosstab(ords_prods_custs_merge_drop['Income_flag'], ords_prods_custs_merge_drop['department_id'], dropna = False)"
   ]
  },
  {
   "cell_type": "code",
   "execution_count": 99,
   "id": "aad1fade",
   "metadata": {},
   "outputs": [],
   "source": [
    "# To copy the crosstab on clipboard for further copy on the excel\n",
    "\n",
    "crosstab_income_dept .to_clipboard()"
   ]
  },
  {
   "cell_type": "code",
   "execution_count": 100,
   "id": "b9000821",
   "metadata": {},
   "outputs": [],
   "source": [
    "# To create a crosstab between the “Income_flag'” column and the “Region” column to establish the relationship and import to EXCEL\n",
    "\n",
    "crosstab_income_region = pd.crosstab(ords_prods_custs_merge_drop['Income_flag'], ords_prods_custs_merge_drop['Region'], dropna = False)"
   ]
  },
  {
   "cell_type": "code",
   "execution_count": 101,
   "id": "14ed2267",
   "metadata": {},
   "outputs": [],
   "source": [
    "crosstab_income_region.to_clipboard()"
   ]
  },
  {
   "cell_type": "code",
   "execution_count": 102,
   "id": "44186342",
   "metadata": {},
   "outputs": [],
   "source": [
    "# To create a crosstab between the “Familystatus_flag” column and the “department_id” column to establish the relationship and import to EXCEL\n",
    "\n",
    "crosstab_family_dept = pd.crosstab(ords_prods_custs_merge_drop['Familystatus_flag'], ords_prods_custs_merge_drop['department_id'], dropna = False)"
   ]
  },
  {
   "cell_type": "code",
   "execution_count": 103,
   "id": "2430607f",
   "metadata": {},
   "outputs": [],
   "source": [
    "crosstab_family_dept.to_clipboard() "
   ]
  },
  {
   "cell_type": "code",
   "execution_count": 104,
   "id": "f0b99c4d",
   "metadata": {},
   "outputs": [],
   "source": [
    "# To create a crosstab between the “Age_flag” column and the “department_id” column to establish the relationship and import to EXCEL\n",
    "\n",
    "crosstab_age_dept = pd.crosstab(ords_prods_custs_merge_drop['Age_flag'], ords_prods_custs_merge_drop['department_id'], dropna = False)"
   ]
  },
  {
   "cell_type": "code",
   "execution_count": 105,
   "id": "5172cee8",
   "metadata": {},
   "outputs": [],
   "source": [
    "crosstab_age_dept.to_clipboard()"
   ]
  },
  {
   "cell_type": "code",
   "execution_count": 106,
   "id": "761b16c6",
   "metadata": {},
   "outputs": [],
   "source": [
    "# To create a crosstab between the “Familystatus_flag” column and the “Region” column to establish the relationship and import to EXCEL\n",
    "\n",
    "crosstab_family_region = pd.crosstab(ords_prods_custs_merge_drop['Familystatus_flag'], ords_prods_custs_merge_drop['Region'], dropna = False)"
   ]
  },
  {
   "cell_type": "code",
   "execution_count": 107,
   "id": "dfa46a85",
   "metadata": {},
   "outputs": [],
   "source": [
    "crosstab_family_region.to_clipboard()"
   ]
  },
  {
   "cell_type": "code",
   "execution_count": 116,
   "id": "2fe1d48e",
   "metadata": {},
   "outputs": [],
   "source": [
    "# To create a crosstab between the “Familystatus_flag” column and the “Region” column to establish the relationship and import to EXCEL\n",
    "\n",
    "crosstab_department_prices = pd.crosstab(ords_prods_custs_merge_drop['department_id'], ords_prods_custs_merge_drop['prices'], dropna = False)"
   ]
  },
  {
   "cell_type": "code",
   "execution_count": 117,
   "id": "a4dc61f4",
   "metadata": {},
   "outputs": [],
   "source": [
    "crosstab_department_prices.to_clipboard()"
   ]
  },
  {
   "cell_type": "markdown",
   "id": "9aad6279",
   "metadata": {},
   "source": [
    "# 9. Produce suitable charts to illustrate your results and export them in your project folder."
   ]
  },
  {
   "cell_type": "code",
   "execution_count": 134,
   "id": "dc5209d1",
   "metadata": {},
   "outputs": [],
   "source": [
    "# reducing your samples to only 'Gender','Region','Income_flag','department_id','Familystatus_flag', Age_flag\n",
    "\n",
    "ords_prods_custs_merge_profile = ords_prods_custs_merge_drop[['add_to_cart_order','prices','Gender','Region','Age_flag','Income_flag','department_id','Familystatus_flag']]"
   ]
  },
  {
   "cell_type": "code",
   "execution_count": 135,
   "id": "8bde7f20",
   "metadata": {},
   "outputs": [
    {
     "data": {
      "image/png": "[encoded data removed]",
      "text/plain": [
       "<Figure size 640x480 with 1 Axes>"
      ]
     },
     "metadata": {},
     "output_type": "display_data"
    }
   ],
   "source": [
    "# To create a line chart of department_id and add_to_cart_order\n",
    "\n",
    "line_department_add_to_cart_order = sns.lineplot(data = ords_prods_custs_merge_profile, x = 'department_id',y = 'add_to_cart_order')"
   ]
  },
  {
   "cell_type": "code",
   "execution_count": 136,
   "id": "79e01f2a",
   "metadata": {},
   "outputs": [],
   "source": [
    "# To export line chart of department_id and prices of Jupyter in the form of an image file\n",
    "\n",
    "line_department_add_to_cart_order.figure.savefig(os.path.join(path, '04 Analysis','Visualizations', 'line_department_add_to_cart_order.png'))"
   ]
  },
  {
   "cell_type": "code",
   "execution_count": 119,
   "id": "79f53b5c",
   "metadata": {},
   "outputs": [
    {
     "data": {
      "image/png": "[encoded data removed]",
      "text/plain": [
       "<Figure size 640x480 with 1 Axes>"
      ]
     },
     "metadata": {},
     "output_type": "display_data"
    }
   ],
   "source": [
    "# To create a line chart of department_id and prices\n",
    "\n",
    "line_department_prices = sns.lineplot(data = ords_prods_custs_merge_profile, x = 'department_id',y = 'prices')"
   ]
  },
  {
   "cell_type": "code",
   "execution_count": 120,
   "id": "659363ea",
   "metadata": {},
   "outputs": [],
   "source": [
    "# To export line chart of department_id and prices of Jupyter in the form of an image file\n",
    "\n",
    "line_department_prices.figure.savefig(os.path.join(path, '04 Analysis','Visualizations', 'line_department_prices.png'))"
   ]
  },
  {
   "cell_type": "code",
   "execution_count": 121,
   "id": "5074b279",
   "metadata": {},
   "outputs": [
    {
     "data": {
      "image/png": "[encoded data removed]",
      "text/plain": [
       "<Figure size 640x480 with 1 Axes>"
      ]
     },
     "metadata": {},
     "output_type": "display_data"
    }
   ],
   "source": [
    "# To create a line chart of Gender and Region\n",
    "\n",
    "line_Gender_Region = sns.lineplot(data = ords_prods_custs_merge_profile, x = 'Gender',y = 'Region')"
   ]
  },
  {
   "cell_type": "code",
   "execution_count": 122,
   "id": "8258fe13",
   "metadata": {},
   "outputs": [],
   "source": [
    "# To export line chart of Gender and Region of Jupyter in the form of an image file\n",
    "\n",
    "line_Gender_Region.figure.savefig(os.path.join(path, '04 Analysis','Visualizations', 'line_Gender_Region.png'))"
   ]
  },
  {
   "cell_type": "code",
   "execution_count": 123,
   "id": "2086b652",
   "metadata": {
    "scrolled": true
   },
   "outputs": [
    {
     "data": {
      "image/png": "[encoded data removed]",
      "text/plain": [
       "<Figure size 640x480 with 1 Axes>"
      ]
     },
     "metadata": {},
     "output_type": "display_data"
    }
   ],
   "source": [
    "# To create a line chart of Income_flag and department_id\n",
    "\n",
    "line_Income_department = sns.lineplot(data = ords_prods_custs_merge_profile, x = 'Income_flag',y = 'department_id')"
   ]
  },
  {
   "cell_type": "code",
   "execution_count": 124,
   "id": "238ae20f",
   "metadata": {},
   "outputs": [],
   "source": [
    "# To export line chart of Income_flag and department_id of Jupyter in the form of an image file\n",
    "\n",
    "line_Income_department.figure.savefig(os.path.join(path, '04 Analysis','Visualizations', 'line_Income_department.png'))"
   ]
  },
  {
   "cell_type": "code",
   "execution_count": 125,
   "id": "d8bdac8e",
   "metadata": {
    "scrolled": true
   },
   "outputs": [
    {
     "data": {
      "image/png": "[encoded data removed]",
      "text/plain": [
       "<Figure size 640x480 with 1 Axes>"
      ]
     },
     "metadata": {},
     "output_type": "display_data"
    }
   ],
   "source": [
    "# To create a line chart of Income_flag and Region\n",
    "\n",
    "line_Income_Region = sns.lineplot(data = ords_prods_custs_merge_profile, x = 'Income_flag',y = 'Region')"
   ]
  },
  {
   "cell_type": "code",
   "execution_count": 126,
   "id": "5196fd37",
   "metadata": {},
   "outputs": [],
   "source": [
    "# To export line chart of Income_flag and Region of Jupyter in the form of an image file\n",
    "\n",
    "line_Income_Region.figure.savefig(os.path.join(path, '04 Analysis','Visualizations', 'line_Income_Region.png'))"
   ]
  },
  {
   "cell_type": "code",
   "execution_count": 127,
   "id": "5fe30ffe",
   "metadata": {},
   "outputs": [
    {
     "data": {
      "image/png": "[encoded data removed]",
      "text/plain": [
       "<Figure size 640x480 with 1 Axes>"
      ]
     },
     "metadata": {},
     "output_type": "display_data"
    }
   ],
   "source": [
    "# To create a line chart of department_id and Familystatus_flag\n",
    "\n",
    "line_department_Familystatus = sns.lineplot(data = ords_prods_custs_merge_profile, x = 'department_id',y = 'Familystatus_flag')"
   ]
  },
  {
   "cell_type": "code",
   "execution_count": 128,
   "id": "b8a9e21d",
   "metadata": {},
   "outputs": [],
   "source": [
    "# To export line chart of department_id and Familystatus_flag of Jupyter in the form of an image file\n",
    "\n",
    "line_department_Familystatus.figure.savefig(os.path.join(path, '04 Analysis','Visualizations', 'line_department_Familystatus.png'))"
   ]
  },
  {
   "cell_type": "code",
   "execution_count": 129,
   "id": "a8b32fb5",
   "metadata": {},
   "outputs": [
    {
     "data": {
      "image/png": "[encoded data removed]",
      "text/plain": [
       "<Figure size 640x480 with 1 Axes>"
      ]
     },
     "metadata": {},
     "output_type": "display_data"
    }
   ],
   "source": [
    "# To create a line chart of department_id and Age_flag\n",
    "\n",
    "line_department_Age = sns.lineplot(data = ords_prods_custs_merge_profile, x = 'department_id',y = 'Age_flag')"
   ]
  },
  {
   "cell_type": "code",
   "execution_count": 130,
   "id": "29ec4c0c",
   "metadata": {},
   "outputs": [],
   "source": [
    "# To export line chart of department_id and Age_flag of Jupyter in the form of an image file\n",
    "\n",
    "line_department_Age.figure.savefig(os.path.join(path, '04 Analysis','Visualizations', 'line_department_Age.png'))"
   ]
  },
  {
   "cell_type": "code",
   "execution_count": 131,
   "id": "e74c47cf",
   "metadata": {},
   "outputs": [
    {
     "data": {
      "image/png": "[encoded data removed]",
      "text/plain": [
       "<Figure size 640x480 with 1 Axes>"
      ]
     },
     "metadata": {},
     "output_type": "display_data"
    }
   ],
   "source": [
    "# To create a line chart of Region and Familystatus_flag\n",
    "\n",
    "line_Region_Familystatus = sns.lineplot(data = ords_prods_custs_merge_profile, x = 'Region',y = 'Familystatus_flag')"
   ]
  },
  {
   "cell_type": "code",
   "execution_count": 132,
   "id": "2cbbc9a8",
   "metadata": {},
   "outputs": [],
   "source": [
    "# To export line chart of Region and Familystatus_flag of Jupyter in the form of an image file\n",
    "\n",
    "line_Region_Familystatus.figure.savefig(os.path.join(path, '04 Analysis','Visualizations', 'line_Region_Familystatus.png'))"
   ]
  },
  {
   "cell_type": "markdown",
   "id": "d57d5559",
   "metadata": {},
   "source": [
    "# Export data"
   ]
  },
  {
   "cell_type": "code",
   "execution_count": 137,
   "id": "67cb685c",
   "metadata": {},
   "outputs": [],
   "source": [
    "ords_prods_custs_merge_drop.to_pickle(os.path.join(path, '02 Data','Prepared Data for storing any manipulated data sets', 'ords_prods_custs_merge_drop_visualizations.pkl'))"
   ]
  },
  {
   "cell_type": "code",
   "execution_count": null,
   "id": "d0ae31de",
   "metadata": {},
   "outputs": [],
   "source": []
  },
  {
   "cell_type": "code",
   "execution_count": null,
   "id": "d66bc3a2",
   "metadata": {},
   "outputs": [],
   "source": []
  },
  {
   "cell_type": "code",
   "execution_count": null,
   "id": "94cf4811",
   "metadata": {},
   "outputs": [],
   "source": []
  },
  {
   "cell_type": "code",
   "execution_count": null,
   "id": "23728012",
   "metadata": {},
   "outputs": [],
   "source": []
  },
  {
   "cell_type": "code",
   "execution_count": null,
   "id": "b9c0b3c5",
   "metadata": {},
   "outputs": [],
   "source": []
  }
 ],
 "metadata": {
  "kernelspec": {
   "display_name": "Python 3 (ipykernel)",
   "language": "python",
   "name": "python3"
  },
  "language_info": {
   "codemirror_mode": {
    "name": "ipython",
    "version": 3
   },
   "file_extension": ".py",
   "mimetype": "text/x-python",
   "name": "python",
   "nbconvert_exporter": "python",
   "pygments_lexer": "ipython3",
   "version": "3.9.13"
  }
 },
 "nbformat": 4,
 "nbformat_minor": 5
}
