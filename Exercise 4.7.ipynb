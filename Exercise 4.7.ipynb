{
 "cells": [
  {
   "cell_type": "markdown",
   "id": "faa99927",
   "metadata": {},
   "source": [
    "# Importing Libraries"
   ]
  },
  {
   "cell_type": "code",
   "execution_count": null,
   "id": "188e50c5",
   "metadata": {},
   "outputs": [],
   "source": [
    "# Import libraries\n",
    "import pandas as pd\n",
    "import numpy as np\n",
    "import os"
   ]
  },
  {
   "cell_type": "code",
   "execution_count": null,
   "id": "c767f635",
   "metadata": {},
   "outputs": [],
   "source": [
    "path = r'C:\\Users\\tee3a\\3D Objects\\12-2022 Instacart Basket Analysis'"
   ]
  },
  {
   "cell_type": "code",
   "execution_count": null,
   "id": "718a9eaf",
   "metadata": {},
   "outputs": [],
   "source": [
    "df_orders_products_merged = pd.read_pickle(os.path.join(path, '02 Data', 'Prepared Data for storing any manipulated data sets', 'orders_products_merged.pkl'))"
   ]
  },
  {
   "cell_type": "code",
   "execution_count": null,
   "id": "262239a8",
   "metadata": {},
   "outputs": [],
   "source": [
    "df_orders_products_merged.shape"
   ]
  },
  {
   "cell_type": "code",
   "execution_count": null,
   "id": "9d1d039d",
   "metadata": {},
   "outputs": [],
   "source": [
    "ords_prods_merge = df_orders_products_merged"
   ]
  },
  {
   "cell_type": "code",
   "execution_count": null,
   "id": "8e288c79",
   "metadata": {},
   "outputs": [],
   "source": [
    "df = df_orders_products_merged[:1000000]"
   ]
  },
  {
   "cell_type": "code",
   "execution_count": null,
   "id": "c802e5b4",
   "metadata": {},
   "outputs": [],
   "source": [
    "df.shape"
   ]
  },
  {
   "cell_type": "code",
   "execution_count": null,
   "id": "6ce54eb7",
   "metadata": {},
   "outputs": [],
   "source": [
    "df.head()"
   ]
  },
  {
   "cell_type": "code",
   "execution_count": null,
   "id": "f2c130ea",
   "metadata": {},
   "outputs": [],
   "source": [
    "df = df.drop(columns = ['_merge'])  "
   ]
  },
  {
   "cell_type": "code",
   "execution_count": null,
   "id": "f520c871",
   "metadata": {},
   "outputs": [],
   "source": [
    "df.shape"
   ]
  },
  {
   "cell_type": "code",
   "execution_count": null,
   "id": "b498f8a9",
   "metadata": {},
   "outputs": [],
   "source": [
    "# Define a function\n",
    "\n",
    "def price_label(row):\n",
    "\n",
    "  if row['prices'] <= 5:\n",
    "    return 'Low-range product'\n",
    "  elif (row['prices'] > 5) and (row['prices'] <= 15):\n",
    "    return 'Mid-range product'\n",
    "  elif row['prices'] > 15:\n",
    "    return 'High range'\n",
    "  else: return 'Not enough data'"
   ]
  },
  {
   "cell_type": "code",
   "execution_count": null,
   "id": "76b05362",
   "metadata": {},
   "outputs": [],
   "source": [
    "# Apply the function\n",
    "\n",
    "df['price_range'] = df.apply(price_label, axis=1)"
   ]
  },
  {
   "cell_type": "code",
   "execution_count": null,
   "id": "2dd2b375",
   "metadata": {},
   "outputs": [],
   "source": [
    "df['price_range'].value_counts(dropna = False)"
   ]
  },
  {
   "cell_type": "code",
   "execution_count": null,
   "id": "3506babd",
   "metadata": {},
   "outputs": [],
   "source": [
    "df['prices'].max()"
   ]
  },
  {
   "cell_type": "markdown",
   "id": "b7803607",
   "metadata": {},
   "source": [
    " # Define the price function"
   ]
  },
  {
   "cell_type": "code",
   "execution_count": null,
   "id": "8e271d1b",
   "metadata": {},
   "outputs": [],
   "source": [
    "ords_prods_merge.loc[ords_prods_merge['prices'] > 15, 'price_range_loc'] = 'High-range product'\n",
    "\n"
   ]
  },
  {
   "cell_type": "code",
   "execution_count": null,
   "id": "d6834a96",
   "metadata": {},
   "outputs": [],
   "source": [
    "ords_prods_merge.loc[(ords_prods_merge['prices'] <= 15) & (ords_prods_merge['prices'] > 5), 'price_range_loc'] = 'Mid-range product' "
   ]
  },
  {
   "cell_type": "code",
   "execution_count": null,
   "id": "6e08a86e",
   "metadata": {},
   "outputs": [],
   "source": [
    "ords_prods_merge.loc[ords_prods_merge['prices'] <= 5, 'price_range_loc'] = 'Low-range product'"
   ]
  },
  {
   "cell_type": "markdown",
   "id": "d8e1fd1c",
   "metadata": {},
   "source": [
    "# Run the value count of the new column"
   ]
  },
  {
   "cell_type": "code",
   "execution_count": null,
   "id": "cd7651bd",
   "metadata": {},
   "outputs": [],
   "source": [
    "ords_prods_merge['price_range_loc'].value_counts(dropna = False)"
   ]
  },
  {
   "cell_type": "code",
   "execution_count": null,
   "id": "64601e7a",
   "metadata": {},
   "outputs": [],
   "source": [
    "ords_prods_merge.rename(columns = {'order_dow' : 'orders_day_of_week'}, inplace = True)"
   ]
  },
  {
   "cell_type": "code",
   "execution_count": null,
   "id": "42e78d0d",
   "metadata": {
    "scrolled": true
   },
   "outputs": [],
   "source": [
    "# orders_day_of_the_week frequency\n",
    "\n",
    "ords_prods_merge['orders_day_of_week'].value_counts(dropna = False)"
   ]
  },
  {
   "cell_type": "markdown",
   "id": "54fb0463",
   "metadata": {},
   "source": [
    "# Looping orders_day_of_week as Busiest day"
   ]
  },
  {
   "cell_type": "code",
   "execution_count": null,
   "id": "f3c67ec3",
   "metadata": {},
   "outputs": [],
   "source": [
    "result = []\n",
    "\n",
    "for value in ords_prods_merge[\"orders_day_of_week\"]:\n",
    "  if value == 0:\n",
    "    result.append(\"Busiest day\")\n",
    "  elif value == 4:\n",
    "    result.append(\"Least busy\")\n",
    "  else:\n",
    "    result.append(\"Regularly busy\")"
   ]
  },
  {
   "cell_type": "markdown",
   "id": "45005049",
   "metadata": {},
   "source": [
    "# creating a new column for Busiest day"
   ]
  },
  {
   "cell_type": "code",
   "execution_count": null,
   "id": "9f4ff09d",
   "metadata": {},
   "outputs": [],
   "source": [
    "result"
   ]
  },
  {
   "cell_type": "code",
   "execution_count": null,
   "id": "9ac72de8",
   "metadata": {},
   "outputs": [],
   "source": [
    "ords_prods_merge['busiest_day'] = result"
   ]
  },
  {
   "cell_type": "code",
   "execution_count": null,
   "id": "a344ba9a",
   "metadata": {},
   "outputs": [],
   "source": [
    "# busiest_day frequency\n",
    "\n",
    "ords_prods_merge['busiest_day'].value_counts(dropna = False)"
   ]
  },
  {
   "cell_type": "markdown",
   "id": "1552884a",
   "metadata": {},
   "source": [
    "# Task 4.7\n",
    " #  Looping orders_day_of_week as Busiest days"
   ]
  },
  {
   "cell_type": "code",
   "execution_count": null,
   "id": "ad677b9c",
   "metadata": {},
   "outputs": [],
   "source": [
    "result_1 = []\n",
    "\n",
    "for value in ords_prods_merge[\"orders_day_of_week\"]:\n",
    "  if value in [0, 1]:\n",
    "    result_1.append(\"Busiest days\")\n",
    "  elif value in [3, 4]:\n",
    "    result_1.append(\"Slowest days\")\n",
    "  else:\n",
    "    result_1.append(\"Regular days\")"
   ]
  },
  {
   "cell_type": "code",
   "execution_count": null,
   "id": "63adcf9f",
   "metadata": {},
   "outputs": [],
   "source": [
    "result_1"
   ]
  },
  {
   "cell_type": "code",
   "execution_count": null,
   "id": "180b33e9",
   "metadata": {},
   "outputs": [],
   "source": [
    "ords_prods_merge['Busiest_days'] = result_1"
   ]
  },
  {
   "cell_type": "code",
   "execution_count": null,
   "id": "3e850227",
   "metadata": {},
   "outputs": [],
   "source": [
    "# Busiest_day frequency\n",
    "\n",
    "ords_prods_merge['Busiest_days'].value_counts(dropna = False)"
   ]
  },
  {
   "cell_type": "markdown",
   "id": "b57fe4cf",
   "metadata": {},
   "source": [
    "#It is noted that the busiest days totalled 11864412 when the value was 0 and 1, also the slowest days toltalled 7624336 when the value was 3 and 4."
   ]
  },
  {
   "cell_type": "markdown",
   "id": "381d5487",
   "metadata": {},
   "source": [
    "#  Creating new column “busiest_period_of_day.”"
   ]
  },
  {
   "cell_type": "code",
   "execution_count": null,
   "id": "5f72d713",
   "metadata": {},
   "outputs": [],
   "source": [
    "# order_hour_of_day frequency\n",
    "\n",
    "ords_prods_merge['order_hour_of_day'].value_counts(dropna = False)"
   ]
  },
  {
   "cell_type": "code",
   "execution_count": null,
   "id": "9e8a32c4",
   "metadata": {},
   "outputs": [],
   "source": [
    "result_2 = []\n",
    "\n",
    "for value in ords_prods_merge[\"order_hour_of_day\"]:\n",
    "  if value == 10:\n",
    "    result_2.append(\"Most orders\")\n",
    "  elif value == 3:\n",
    "    result_2.append(\"Fewest orders\")\n",
    "  else:\n",
    "    result_2.append(\"Average orders\")"
   ]
  },
  {
   "cell_type": "code",
   "execution_count": null,
   "id": "0a30e293",
   "metadata": {},
   "outputs": [],
   "source": [
    "result_2"
   ]
  },
  {
   "cell_type": "code",
   "execution_count": null,
   "id": "564a3fde",
   "metadata": {},
   "outputs": [],
   "source": [
    "ords_prods_merge['busiest_period_of_day'] = result_2"
   ]
  },
  {
   "cell_type": "code",
   "execution_count": null,
   "id": "ec5672b0",
   "metadata": {},
   "outputs": [],
   "source": [
    "# busiest_period_of_day frequency\n",
    "\n",
    "ords_prods_merge['busiest_period_of_day'].value_counts(dropna = False)"
   ]
  },
  {
   "cell_type": "markdown",
   "id": "951406bf",
   "metadata": {},
   "source": [
    "It is noted that the Average orders has the highest number of 29591818, followed by Most orders with value of 2761760 and lastly Fewest orders with value of 51281."
   ]
  },
  {
   "cell_type": "markdown",
   "id": "e1f2cadc",
   "metadata": {},
   "source": [
    "# Export the newly created dataframe "
   ]
  },
  {
   "cell_type": "code",
   "execution_count": null,
   "id": "5f685185",
   "metadata": {},
   "outputs": [],
   "source": [
    "ords_prods_merge.to_pickle(os.path.join(path, '02 Data','Prepared Data for storing any manipulated data sets', 'ords_prods_merge_new columns.pkl'))"
   ]
  },
  {
   "cell_type": "code",
   "execution_count": null,
   "id": "e6f50060",
   "metadata": {},
   "outputs": [],
   "source": [
    "ords_prods_merge.shape"
   ]
  },
  {
   "cell_type": "code",
   "execution_count": null,
   "id": "852d0a48",
   "metadata": {},
   "outputs": [],
   "source": []
  }
 ],
 "metadata": {
  "kernelspec": {
   "display_name": "Python 3 (ipykernel)",
   "language": "python",
   "name": "python3"
  },
  "language_info": {
   "codemirror_mode": {
    "name": "ipython",
    "version": 3
   },
   "file_extension": ".py",
   "mimetype": "text/x-python",
   "name": "python",
   "nbconvert_exporter": "python",
   "pygments_lexer": "ipython3",
   "version": "3.9.13"
  }
 },
 "nbformat": 4,
 "nbformat_minor": 5
}
