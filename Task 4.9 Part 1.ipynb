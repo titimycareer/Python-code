{
 "cells": [
  {
   "cell_type": "markdown",
   "id": "df022917",
   "metadata": {},
   "source": [
    "# Importing Libraries"
   ]
  },
  {
   "cell_type": "code",
   "execution_count": 1,
   "id": "590eed99",
   "metadata": {},
   "outputs": [],
   "source": [
    "import pandas as pd\n",
    "import numpy as np\n",
    "import os\n",
    "import matplotlib.pyplot as plt\n",
    "import seaborn as sns\n",
    "import scipy"
   ]
  },
  {
   "cell_type": "code",
   "execution_count": 2,
   "id": "f39d943d",
   "metadata": {},
   "outputs": [],
   "source": [
    "path = r'C:\\Users\\tee3a\\3D Objects\\12-2022 Instacart Basket Analysis'"
   ]
  },
  {
   "cell_type": "code",
   "execution_count": 3,
   "id": "78401590",
   "metadata": {},
   "outputs": [
    {
     "ename": "MemoryError",
     "evalue": "",
     "output_type": "error",
     "traceback": [
      "\u001b[1;31m---------------------------------------------------------------------------\u001b[0m",
      "\u001b[1;31mMemoryError\u001b[0m                               Traceback (most recent call last)",
      "\u001b[1;32m~\\AppData\\Local\\Temp\\ipykernel_16452\\4065377634.py\u001b[0m in \u001b[0;36m<module>\u001b[1;34m\u001b[0m\n\u001b[1;32m----> 1\u001b[1;33m \u001b[0mords_prods_merge\u001b[0m \u001b[1;33m=\u001b[0m \u001b[0mpd\u001b[0m\u001b[1;33m.\u001b[0m\u001b[0mread_pickle\u001b[0m\u001b[1;33m(\u001b[0m\u001b[0mos\u001b[0m\u001b[1;33m.\u001b[0m\u001b[0mpath\u001b[0m\u001b[1;33m.\u001b[0m\u001b[0mjoin\u001b[0m\u001b[1;33m(\u001b[0m\u001b[0mpath\u001b[0m\u001b[1;33m,\u001b[0m \u001b[1;34m'02 Data'\u001b[0m\u001b[1;33m,\u001b[0m \u001b[1;34m'Prepared Data for storing any manipulated data sets'\u001b[0m\u001b[1;33m,\u001b[0m \u001b[1;34m'ords_prods_new columns.pkl'\u001b[0m\u001b[1;33m)\u001b[0m\u001b[1;33m)\u001b[0m\u001b[1;33m\u001b[0m\u001b[1;33m\u001b[0m\u001b[0m\n\u001b[0m",
      "\u001b[1;32m~\\anaconda3\\lib\\site-packages\\pandas\\io\\pickle.py\u001b[0m in \u001b[0;36mread_pickle\u001b[1;34m(filepath_or_buffer, compression, storage_options)\u001b[0m\n\u001b[0;32m    203\u001b[0m                     \u001b[1;31m# We want to silence any warnings about, e.g. moved modules.\u001b[0m\u001b[1;33m\u001b[0m\u001b[1;33m\u001b[0m\u001b[0m\n\u001b[0;32m    204\u001b[0m                     \u001b[0mwarnings\u001b[0m\u001b[1;33m.\u001b[0m\u001b[0msimplefilter\u001b[0m\u001b[1;33m(\u001b[0m\u001b[1;34m\"ignore\"\u001b[0m\u001b[1;33m,\u001b[0m \u001b[0mWarning\u001b[0m\u001b[1;33m)\u001b[0m\u001b[1;33m\u001b[0m\u001b[1;33m\u001b[0m\u001b[0m\n\u001b[1;32m--> 205\u001b[1;33m                     \u001b[1;32mreturn\u001b[0m \u001b[0mpickle\u001b[0m\u001b[1;33m.\u001b[0m\u001b[0mload\u001b[0m\u001b[1;33m(\u001b[0m\u001b[0mhandles\u001b[0m\u001b[1;33m.\u001b[0m\u001b[0mhandle\u001b[0m\u001b[1;33m)\u001b[0m\u001b[1;33m\u001b[0m\u001b[1;33m\u001b[0m\u001b[0m\n\u001b[0m\u001b[0;32m    206\u001b[0m             \u001b[1;32mexcept\u001b[0m \u001b[0mexcs_to_catch\u001b[0m\u001b[1;33m:\u001b[0m\u001b[1;33m\u001b[0m\u001b[1;33m\u001b[0m\u001b[0m\n\u001b[0;32m    207\u001b[0m                 \u001b[1;31m# e.g.\u001b[0m\u001b[1;33m\u001b[0m\u001b[1;33m\u001b[0m\u001b[0m\n",
      "\u001b[1;31mMemoryError\u001b[0m: "
     ]
    }
   ],
   "source": [
    "ords_prods_merge = pd.read_pickle(os.path.join(path, '02 Data', 'Prepared Data for storing any manipulated data sets', 'ords_prods_new columns.pkl'))"
   ]
  },
  {
   "cell_type": "code",
   "execution_count": null,
   "id": "8130ce0e",
   "metadata": {
    "scrolled": true
   },
   "outputs": [],
   "source": [
    "customers = pd.read_csv(os.path.join(path, '02 Data', 'Original Data for raw data sets', 'customers.csv'), index_col = False)"
   ]
  },
  {
   "cell_type": "code",
   "execution_count": null,
   "id": "1cb79b44",
   "metadata": {},
   "outputs": [],
   "source": [
    "customers.head()"
   ]
  },
  {
   "cell_type": "code",
   "execution_count": null,
   "id": "4eb21bdc",
   "metadata": {},
   "outputs": [],
   "source": [
    "customers.shape"
   ]
  },
  {
   "cell_type": "code",
   "execution_count": null,
   "id": "d6cd88d6",
   "metadata": {},
   "outputs": [],
   "source": [
    "customers.info()"
   ]
  },
  {
   "cell_type": "code",
   "execution_count": null,
   "id": "90e0d53e",
   "metadata": {},
   "outputs": [],
   "source": [
    "customers.dtypes"
   ]
  },
  {
   "cell_type": "code",
   "execution_count": null,
   "id": "d6605171",
   "metadata": {},
   "outputs": [],
   "source": [
    "customers.columns"
   ]
  },
  {
   "cell_type": "code",
   "execution_count": null,
   "id": "c797a394",
   "metadata": {},
   "outputs": [],
   "source": [
    "customers.describe()"
   ]
  },
  {
   "cell_type": "code",
   "execution_count": null,
   "id": "93ae168f",
   "metadata": {},
   "outputs": [],
   "source": [
    "data_dict_customers = customers.to_dict('index')"
   ]
  },
  {
   "cell_type": "code",
   "execution_count": null,
   "id": "baa747b0",
   "metadata": {},
   "outputs": [],
   "source": [
    "data_dict_customers "
   ]
  },
  {
   "cell_type": "code",
   "execution_count": null,
   "id": "4df3df56",
   "metadata": {},
   "outputs": [],
   "source": [
    "# Finding Missing Values\n",
    "\n",
    "customers.isnull().sum()"
   ]
  },
  {
   "cell_type": "markdown",
   "id": "bd441a38",
   "metadata": {},
   "source": [
    "# First Name is the only incomplete data, the other data are complete."
   ]
  },
  {
   "cell_type": "code",
   "execution_count": null,
   "id": "b76e6c63",
   "metadata": {},
   "outputs": [],
   "source": [
    "# identifying the rows with missing values\n",
    "\n",
    "df_nan_4 =  customers[customers['First Name'].isnull() == True]"
   ]
  },
  {
   "cell_type": "code",
   "execution_count": null,
   "id": "b4d32a0b",
   "metadata": {},
   "outputs": [],
   "source": [
    "df_nan_4"
   ]
  },
  {
   "cell_type": "markdown",
   "id": "afb5174b",
   "metadata": {},
   "source": [
    "# First Name is column is the only column with missing values."
   ]
  },
  {
   "cell_type": "code",
   "execution_count": null,
   "id": "02a079ee",
   "metadata": {},
   "outputs": [],
   "source": [
    "#checking for mixed-type data.\n",
    "\n",
    "for col in customers.columns.tolist():\n",
    "  weird = (customers[[col]].applymap(type) != customers[[col]].iloc[0].apply(type)).any(axis = 1)\n",
    "  if len (customers[weird]) > 0:\n",
    "    print (col)"
   ]
  },
  {
   "cell_type": "code",
   "execution_count": null,
   "id": "041d69fe",
   "metadata": {},
   "outputs": [],
   "source": [
    "customers_1 = customers"
   ]
  },
  {
   "cell_type": "code",
   "execution_count": null,
   "id": "fe10aa39",
   "metadata": {},
   "outputs": [],
   "source": [
    "customers_1['First Name'] = customers['First Name'].astype('str')"
   ]
  },
  {
   "cell_type": "code",
   "execution_count": null,
   "id": "d49ff2ae",
   "metadata": {},
   "outputs": [],
   "source": [
    "# To confirm that the mixed-type data in First Name has been fixed.\n",
    "\n",
    "for col in customers_1.columns.tolist():\n",
    "  weird = (customers_1[[col]].applymap(type) != customers_1[[col]].iloc[0].apply(type)).any(axis = 1)\n",
    "  if len (customers_1[weird]) > 0:\n",
    "    print (col)"
   ]
  },
  {
   "cell_type": "markdown",
   "id": "92293303",
   "metadata": {},
   "source": [
    "# 11259 data were missing from the first name column because the data type were mixed, this was changed to string."
   ]
  },
  {
   "cell_type": "code",
   "execution_count": null,
   "id": "3cf48c18",
   "metadata": {},
   "outputs": [],
   "source": [
    "df_dups_5 = customers_1[customers_1.duplicated()]"
   ]
  },
  {
   "cell_type": "code",
   "execution_count": null,
   "id": "bdc9f5d3",
   "metadata": {},
   "outputs": [],
   "source": [
    "df_dups_5"
   ]
  },
  {
   "cell_type": "markdown",
   "id": "b89ef042",
   "metadata": {},
   "source": [
    "# There are no duplicated data and no data type to change."
   ]
  },
  {
   "cell_type": "markdown",
   "id": "b3f0762d",
   "metadata": {},
   "source": [
    "# There are no columns to drop or rename"
   ]
  },
  {
   "cell_type": "code",
   "execution_count": null,
   "id": "2d1f9623",
   "metadata": {},
   "outputs": [],
   "source": [
    "customers_1.head(5)"
   ]
  },
  {
   "cell_type": "code",
   "execution_count": null,
   "id": "972da027",
   "metadata": {},
   "outputs": [],
   "source": [
    "customers_1.shape"
   ]
  },
  {
   "cell_type": "code",
   "execution_count": null,
   "id": "2f00a60d",
   "metadata": {},
   "outputs": [],
   "source": [
    "ords_prods_merge.shape"
   ]
  },
  {
   "cell_type": "code",
   "execution_count": null,
   "id": "ac8f8e20",
   "metadata": {},
   "outputs": [],
   "source": [
    "ords_prods_merge.head(5)"
   ]
  },
  {
   "cell_type": "code",
   "execution_count": null,
   "id": "9128fc2a",
   "metadata": {},
   "outputs": [],
   "source": [
    "customers_1.dtypes"
   ]
  },
  {
   "cell_type": "code",
   "execution_count": null,
   "id": "5f713854",
   "metadata": {
    "scrolled": true
   },
   "outputs": [],
   "source": [
    "ords_prods_merge.dtypes"
   ]
  },
  {
   "cell_type": "code",
   "execution_count": null,
   "id": "d15cb219",
   "metadata": {},
   "outputs": [],
   "source": [
    "ords_prods_custs_merge = customers_1.merge(ords_prods_merge, how = 'inner')"
   ]
  },
  {
   "cell_type": "code",
   "execution_count": null,
   "id": "bc4d6a1c",
   "metadata": {
    "scrolled": true
   },
   "outputs": [],
   "source": [
    "ords_prods_custs_merge.head(5) "
   ]
  },
  {
   "cell_type": "code",
   "execution_count": null,
   "id": "35f85f84",
   "metadata": {
    "scrolled": true
   },
   "outputs": [],
   "source": [
    "ords_prods_custs_merge.describe()"
   ]
  },
  {
   "cell_type": "code",
   "execution_count": null,
   "id": "71b0cdf0",
   "metadata": {},
   "outputs": [],
   "source": [
    "ords_prods_custs_merge.to_pickle(os.path.join(path, '02 Data','Prepared Data for storing any manipulated data sets', 'ords_prods_custs_merge.pkl'))"
   ]
  },
  {
   "cell_type": "code",
   "execution_count": null,
   "id": "064e3e6b",
   "metadata": {},
   "outputs": [],
   "source": [
    "ords_prods_custs_merge.shape"
   ]
  },
  {
   "cell_type": "markdown",
   "id": "5b9f9476",
   "metadata": {},
   "source": [
    "# Export data"
   ]
  },
  {
   "cell_type": "code",
   "execution_count": null,
   "id": "e191204c",
   "metadata": {},
   "outputs": [],
   "source": [
    "df_dep_t_new.to_pickle(os.path.join(path, '02 Data','Prepared Data for storing any manipulated data sets', 'df_dep_t_new.pkl'))"
   ]
  },
  {
   "cell_type": "code",
   "execution_count": null,
   "id": "02d8ce83",
   "metadata": {},
   "outputs": [],
   "source": []
  },
  {
   "cell_type": "code",
   "execution_count": null,
   "id": "872bf3a9",
   "metadata": {},
   "outputs": [],
   "source": []
  }
 ],
 "metadata": {
  "kernelspec": {
   "display_name": "Python 3 (ipykernel)",
   "language": "python",
   "name": "python3"
  },
  "language_info": {
   "codemirror_mode": {
    "name": "ipython",
    "version": 3
   },
   "file_extension": ".py",
   "mimetype": "text/x-python",
   "name": "python",
   "nbconvert_exporter": "python",
   "pygments_lexer": "ipython3",
   "version": "3.9.13"
  }
 },
 "nbformat": 4,
 "nbformat_minor": 5
}
